{
  "nbformat": 4,
  "nbformat_minor": 0,
  "metadata": {
    "colab": {
      "name": "tensor.ipynb",
      "provenance": [],
      "authorship_tag": "ABX9TyOsfKVI2NrajAwajEfexT1g",
      "include_colab_link": true
    },
    "kernelspec": {
      "name": "python3",
      "display_name": "Python 3"
    },
    "language_info": {
      "name": "python"
    }
  },
  "cells": [
    {
      "cell_type": "markdown",
      "metadata": {
        "id": "view-in-github",
        "colab_type": "text"
      },
      "source": [
        "<a href=\"https://colab.research.google.com/github/gorzanskik-ai/intro-to-ann/blob/main/02_basics/tensor.ipynb\" target=\"_parent\"><img src=\"https://colab.research.google.com/assets/colab-badge.svg\" alt=\"Open In Colab\"/></a>"
      ]
    },
    {
      "cell_type": "code",
      "execution_count": 1,
      "metadata": {
        "id": "wXYzAAJYGaTo"
      },
      "outputs": [],
      "source": [
        "import numpy as np"
      ]
    },
    {
      "cell_type": "code",
      "source": [
        "#skalar\n",
        "scalar = 3.0\n",
        "print(scalar)\n",
        "print(type(scalar))"
      ],
      "metadata": {
        "colab": {
          "base_uri": "https://localhost:8080/"
        },
        "id": "i7bA8UMdGpRU",
        "outputId": "3b63dd30-d346-4ec0-f388-c07c27f5c600"
      },
      "execution_count": 4,
      "outputs": [
        {
          "output_type": "stream",
          "name": "stdout",
          "text": [
            "3.0\n",
            "<class 'float'>\n"
          ]
        }
      ]
    },
    {
      "cell_type": "code",
      "source": [
        "#wektor\n",
        "vector = np.array([2, 3, 4, 6])\n",
        "print(vector)\n",
        "print(type(vector))\n",
        "print(vector.ndim) #rząd\n",
        "print(vector.shape)\n",
        "print(len(vector))"
      ],
      "metadata": {
        "colab": {
          "base_uri": "https://localhost:8080/"
        },
        "id": "jUsJYfBuGxBM",
        "outputId": "30d00415-6bfe-429b-befb-3b98d0bf1481"
      },
      "execution_count": 6,
      "outputs": [
        {
          "output_type": "stream",
          "name": "stdout",
          "text": [
            "[2 3 4 6]\n",
            "<class 'numpy.ndarray'>\n",
            "1\n",
            "(4,)\n",
            "4\n"
          ]
        }
      ]
    },
    {
      "cell_type": "code",
      "source": [
        "#matrix\n",
        "matrix = np.array([[1, 2, 3],\n",
        "                   [4, 5, 6]])\n",
        "print(matrix)\n",
        "print(type(matrix))\n",
        "print(matrix.shape)\n",
        "print(len(matrix))\n",
        "print(matrix.dtype)"
      ],
      "metadata": {
        "colab": {
          "base_uri": "https://localhost:8080/"
        },
        "id": "vn93Pnd-HNaw",
        "outputId": "2adecaaf-f967-4b03-c07a-436fc6f62e97"
      },
      "execution_count": 8,
      "outputs": [
        {
          "output_type": "stream",
          "name": "stdout",
          "text": [
            "[[1 2 3]\n",
            " [4 5 6]]\n",
            "<class 'numpy.ndarray'>\n",
            "(2, 3)\n",
            "2\n",
            "int64\n"
          ]
        }
      ]
    },
    {
      "cell_type": "code",
      "source": [
        "#tensor\n",
        "tensor = np.array([[[1, 2, 3],\n",
        "                    [4, 5, 6]],\n",
        "                    [[7, 8, 9],\n",
        "                    [10, 11, 12]]], dtype='int')\n",
        "\n",
        "print(tensor)\n",
        "print(tensor.shape)\n",
        "print(len(tensor))\n",
        "print(tensor.dtype)\n",
        "print(tensor.ndim)"
      ],
      "metadata": {
        "colab": {
          "base_uri": "https://localhost:8080/"
        },
        "id": "YxkzsXSXHptx",
        "outputId": "af036f2e-775b-4fef-cc00-86c595a2608a"
      },
      "execution_count": 13,
      "outputs": [
        {
          "output_type": "stream",
          "name": "stdout",
          "text": [
            "[[[ 1  2  3]\n",
            "  [ 4  5  6]]\n",
            "\n",
            " [[ 7  8  9]\n",
            "  [10 11 12]]]\n",
            "(2, 2, 3)\n",
            "2\n",
            "int64\n",
            "3\n"
          ]
        }
      ]
    },
    {
      "cell_type": "code",
      "source": [
        "tensor[0]"
      ],
      "metadata": {
        "colab": {
          "base_uri": "https://localhost:8080/"
        },
        "id": "dKYRGC1BILZI",
        "outputId": "2288d5c0-b171-4180-d596-e7d2fcb33158"
      },
      "execution_count": 14,
      "outputs": [
        {
          "output_type": "execute_result",
          "data": {
            "text/plain": [
              "array([[1, 2, 3],\n",
              "       [4, 5, 6]])"
            ]
          },
          "metadata": {},
          "execution_count": 14
        }
      ]
    },
    {
      "cell_type": "code",
      "source": [
        ""
      ],
      "metadata": {
        "id": "xUBhKRMSJK6S"
      },
      "execution_count": null,
      "outputs": []
    }
  ]
}