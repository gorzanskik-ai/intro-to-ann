{
  "nbformat": 4,
  "nbformat_minor": 0,
  "metadata": {
    "colab": {
      "name": "04_overfitting_underfitting.ipynb",
      "provenance": [],
      "collapsed_sections": [],
      "authorship_tag": "ABX9TyOoZu5cJMoyMlLumLEjsV2U",
      "include_colab_link": true
    },
    "kernelspec": {
      "name": "python3",
      "display_name": "Python 3"
    },
    "language_info": {
      "name": "python"
    }
  },
  "cells": [
    {
      "cell_type": "markdown",
      "metadata": {
        "id": "view-in-github",
        "colab_type": "text"
      },
      "source": [
        "<a href=\"https://colab.research.google.com/github/gorzanskik-ai/intro-to-ann/blob/main/03_keras/04_overfitting_underfitting.ipynb\" target=\"_parent\"><img src=\"https://colab.research.google.com/assets/colab-badge.svg\" alt=\"Open In Colab\"/></a>"
      ]
    },
    {
      "cell_type": "code",
      "execution_count": 3,
      "metadata": {
        "id": "eU1ElPKW0Cca"
      },
      "outputs": [],
      "source": [
        "import numpy as np\n",
        "import pandas as pd\n",
        "import matplotlib.pyplot as plt\n",
        "import seaborn as sns\n",
        "import pickle\n",
        "\n",
        "import tensorflow as tf\n",
        "from tensorflow.keras.datasets import imdb\n",
        "from tensorflow.keras.datasets.imdb import get_word_index\n",
        "from tensorflow.keras.utils import get_file\n",
        "from tensorflow.keras.models import Sequential\n",
        "from tensorflow.keras.layers import Dense"
      ]
    },
    {
      "cell_type": "code",
      "source": [
        "NUM_WORDS = 10000   # 10000 najczęściej pojawiających się słów\n",
        "INDEX_FROM = 3\n",
        "\n",
        "(train_data, train_labels), (test_data, test_labels) = imdb.load_data(num_words=NUM_WORDS, index_from=INDEX_FROM)"
      ],
      "metadata": {
        "id": "anZbgeJy1BUO"
      },
      "execution_count": 4,
      "outputs": []
    },
    {
      "cell_type": "code",
      "source": [
        "word_to_idx = get_word_index()\n",
        "word_to_idx = {k:(v + INDEX_FROM) for k, v in word_to_idx.items()}\n",
        "word_to_idx['<PAD>'] = 0\n",
        "word_to_idx['<START>'] = 1\n",
        "word_to_idx['<UNK>'] = 2\n",
        "word_to_idx['<UNUSED>'] = 3\n",
        "idx_to_word = {v: k for k, v in word_to_idx.items()}\n",
        "list(idx_to_word.items())[:10]\n",
        "print(' '.join(idx_to_word[idx] for idx in train_data[0]))"
      ],
      "metadata": {
        "colab": {
          "base_uri": "https://localhost:8080/"
        },
        "id": "o8H3Sln71ObJ",
        "outputId": "161ce006-9036-48ee-8511-5cf82a92f503"
      },
      "execution_count": 5,
      "outputs": [
        {
          "output_type": "stream",
          "name": "stdout",
          "text": [
            "<START> this film was just brilliant casting location scenery story direction everyone's really suited the part they played and you could just imagine being there robert <UNK> is an amazing actor and now the same being director <UNK> father came from the same scottish island as myself so i loved the fact there was a real connection with this film the witty remarks throughout the film were great it was just brilliant so much that i bought the film as soon as it was released for <UNK> and would recommend it to everyone to watch and the fly fishing was amazing really cried at the end it was so sad and you know what they say if you cry at a film it must have been good and this definitely was also <UNK> to the two little boy's that played the <UNK> of norman and paul they were just brilliant children are often left out of the <UNK> list i think because the stars that play them all grown up are such a big profile for the whole film but these children are amazing and should be praised for what they have done don't you think the whole story was so lovely because it was true and was someone's life after all that was shared with us all\n"
          ]
        }
      ]
    },
    {
      "cell_type": "code",
      "source": [
        "def multi_hot_sequences(sequences, dimension):\n",
        "    results = np.zeros((len(sequences), dimension))\n",
        "    for i, word_indices in enumerate(sequences):\n",
        "        results[i, word_indices] = 1.0\n",
        "    return results\n",
        "\n",
        "train_data = multi_hot_sequences(train_data, dimension=NUM_WORDS)\n",
        "test_data = multi_hot_sequences(test_data, dimension=NUM_WORDS)\n",
        "train_data.shape"
      ],
      "metadata": {
        "colab": {
          "base_uri": "https://localhost:8080/"
        },
        "id": "MCMururZ1q4R",
        "outputId": "20a4095f-bc24-4897-b426-ed7e8e690717"
      },
      "execution_count": 6,
      "outputs": [
        {
          "output_type": "execute_result",
          "data": {
            "text/plain": [
              "(25000, 10000)"
            ]
          },
          "metadata": {},
          "execution_count": 6
        }
      ]
    },
    {
      "cell_type": "code",
      "source": [
        "#model bazowy\n",
        "baseline_model = Sequential()\n",
        "baseline_model.add(Dense(16, activation='relu', input_shape=(NUM_WORDS,)))\n",
        "baseline_model.add(Dense(16, activation='relu'))\n",
        "baseline_model.add(Dense(1, activation='sigmoid'))\n",
        "\n",
        "baseline_model.compile(optimizer='adam',\n",
        "                       loss='binary_crossentropy',\n",
        "                       metrics=['accuracy', 'binary_crossentropy'])\n",
        "\n",
        "baseline_model.summary()"
      ],
      "metadata": {
        "colab": {
          "base_uri": "https://localhost:8080/"
        },
        "id": "0Wu5jYOd2KUi",
        "outputId": "e4fa9b5a-96e0-4d9e-d6ed-414b21fb9456"
      },
      "execution_count": 7,
      "outputs": [
        {
          "output_type": "stream",
          "name": "stdout",
          "text": [
            "Model: \"sequential\"\n",
            "_________________________________________________________________\n",
            " Layer (type)                Output Shape              Param #   \n",
            "=================================================================\n",
            " dense (Dense)               (None, 16)                160016    \n",
            "                                                                 \n",
            " dense_1 (Dense)             (None, 16)                272       \n",
            "                                                                 \n",
            " dense_2 (Dense)             (None, 1)                 17        \n",
            "                                                                 \n",
            "=================================================================\n",
            "Total params: 160,305\n",
            "Trainable params: 160,305\n",
            "Non-trainable params: 0\n",
            "_________________________________________________________________\n"
          ]
        }
      ]
    },
    {
      "cell_type": "code",
      "source": [
        "baseline_history = baseline_model.fit(train_data, train_labels, epochs=20, batch_size=512, validation_data=(test_data, test_labels))"
      ],
      "metadata": {
        "colab": {
          "base_uri": "https://localhost:8080/"
        },
        "id": "XmBRCBUk2UES",
        "outputId": "b40c4800-0143-4a97-d461-54bc7b7d6a91"
      },
      "execution_count": 8,
      "outputs": [
        {
          "output_type": "stream",
          "name": "stdout",
          "text": [
            "Epoch 1/20\n",
            "49/49 [==============================] - 4s 60ms/step - loss: 0.5204 - accuracy: 0.7769 - binary_crossentropy: 0.5204 - val_loss: 0.3609 - val_accuracy: 0.8734 - val_binary_crossentropy: 0.3609\n",
            "Epoch 2/20\n",
            "49/49 [==============================] - 2s 42ms/step - loss: 0.2652 - accuracy: 0.9079 - binary_crossentropy: 0.2652 - val_loss: 0.2927 - val_accuracy: 0.8834 - val_binary_crossentropy: 0.2927\n",
            "Epoch 3/20\n",
            "49/49 [==============================] - 2s 43ms/step - loss: 0.1885 - accuracy: 0.9353 - binary_crossentropy: 0.1885 - val_loss: 0.2885 - val_accuracy: 0.8859 - val_binary_crossentropy: 0.2885\n",
            "Epoch 4/20\n",
            "49/49 [==============================] - 2s 42ms/step - loss: 0.1497 - accuracy: 0.9502 - binary_crossentropy: 0.1497 - val_loss: 0.3052 - val_accuracy: 0.8811 - val_binary_crossentropy: 0.3052\n",
            "Epoch 5/20\n",
            "49/49 [==============================] - 2s 43ms/step - loss: 0.1239 - accuracy: 0.9610 - binary_crossentropy: 0.1239 - val_loss: 0.3375 - val_accuracy: 0.8739 - val_binary_crossentropy: 0.3375\n",
            "Epoch 6/20\n",
            "49/49 [==============================] - 2s 43ms/step - loss: 0.1026 - accuracy: 0.9691 - binary_crossentropy: 0.1026 - val_loss: 0.3636 - val_accuracy: 0.8715 - val_binary_crossentropy: 0.3636\n",
            "Epoch 7/20\n",
            "49/49 [==============================] - 2s 41ms/step - loss: 0.0862 - accuracy: 0.9749 - binary_crossentropy: 0.0862 - val_loss: 0.3979 - val_accuracy: 0.8688 - val_binary_crossentropy: 0.3979\n",
            "Epoch 8/20\n",
            "49/49 [==============================] - 2s 43ms/step - loss: 0.0716 - accuracy: 0.9806 - binary_crossentropy: 0.0716 - val_loss: 0.4392 - val_accuracy: 0.8640 - val_binary_crossentropy: 0.4392\n",
            "Epoch 9/20\n",
            "49/49 [==============================] - 3s 64ms/step - loss: 0.0589 - accuracy: 0.9859 - binary_crossentropy: 0.0589 - val_loss: 0.4866 - val_accuracy: 0.8609 - val_binary_crossentropy: 0.4866\n",
            "Epoch 10/20\n",
            "49/49 [==============================] - 4s 86ms/step - loss: 0.0486 - accuracy: 0.9900 - binary_crossentropy: 0.0486 - val_loss: 0.5166 - val_accuracy: 0.8599 - val_binary_crossentropy: 0.5166\n",
            "Epoch 11/20\n",
            "49/49 [==============================] - 3s 69ms/step - loss: 0.0396 - accuracy: 0.9930 - binary_crossentropy: 0.0396 - val_loss: 0.5604 - val_accuracy: 0.8578 - val_binary_crossentropy: 0.5604\n",
            "Epoch 12/20\n",
            "49/49 [==============================] - 2s 43ms/step - loss: 0.0320 - accuracy: 0.9950 - binary_crossentropy: 0.0320 - val_loss: 0.6036 - val_accuracy: 0.8562 - val_binary_crossentropy: 0.6036\n",
            "Epoch 13/20\n",
            "49/49 [==============================] - 2s 43ms/step - loss: 0.0257 - accuracy: 0.9968 - binary_crossentropy: 0.0257 - val_loss: 0.6595 - val_accuracy: 0.8536 - val_binary_crossentropy: 0.6595\n",
            "Epoch 14/20\n",
            "49/49 [==============================] - 2s 42ms/step - loss: 0.0207 - accuracy: 0.9975 - binary_crossentropy: 0.0207 - val_loss: 0.7053 - val_accuracy: 0.8523 - val_binary_crossentropy: 0.7053\n",
            "Epoch 15/20\n",
            "49/49 [==============================] - 2s 43ms/step - loss: 0.0169 - accuracy: 0.9986 - binary_crossentropy: 0.0169 - val_loss: 0.7317 - val_accuracy: 0.8522 - val_binary_crossentropy: 0.7317\n",
            "Epoch 16/20\n",
            "49/49 [==============================] - 2s 42ms/step - loss: 0.0138 - accuracy: 0.9988 - binary_crossentropy: 0.0138 - val_loss: 0.7602 - val_accuracy: 0.8520 - val_binary_crossentropy: 0.7602\n",
            "Epoch 17/20\n",
            "49/49 [==============================] - 2s 42ms/step - loss: 0.0113 - accuracy: 0.9993 - binary_crossentropy: 0.0113 - val_loss: 0.8098 - val_accuracy: 0.8507 - val_binary_crossentropy: 0.8098\n",
            "Epoch 18/20\n",
            "49/49 [==============================] - 3s 59ms/step - loss: 0.0094 - accuracy: 0.9994 - binary_crossentropy: 0.0094 - val_loss: 0.8390 - val_accuracy: 0.8507 - val_binary_crossentropy: 0.8390\n",
            "Epoch 19/20\n",
            "49/49 [==============================] - 3s 62ms/step - loss: 0.0077 - accuracy: 0.9994 - binary_crossentropy: 0.0077 - val_loss: 0.8811 - val_accuracy: 0.8501 - val_binary_crossentropy: 0.8811\n",
            "Epoch 20/20\n",
            "49/49 [==============================] - 3s 65ms/step - loss: 0.0062 - accuracy: 0.9995 - binary_crossentropy: 0.0062 - val_loss: 0.9222 - val_accuracy: 0.8492 - val_binary_crossentropy: 0.9222\n"
          ]
        }
      ]
    },
    {
      "cell_type": "code",
      "source": [
        "#smaller model\n",
        "smaller_model = Sequential()\n",
        "smaller_model.add(Dense(4, activation='relu', input_shape=(NUM_WORDS, )))\n",
        "smaller_model.add(Dense(4, activation='relu'))\n",
        "smaller_model.add(Dense(1, activation='sigmoid'))\n",
        "smaller_model.compile(optimizer='adam',\n",
        "                       loss='binary_crossentropy',\n",
        "                       metrics=['accuracy', 'binary_crossentropy'])\n",
        "\n",
        "smaller_model.summary()"
      ],
      "metadata": {
        "colab": {
          "base_uri": "https://localhost:8080/"
        },
        "id": "5z04dsGz2WIG",
        "outputId": "49169d24-2046-4a0d-9d2a-d4f754afade9"
      },
      "execution_count": null,
      "outputs": [
        {
          "output_type": "stream",
          "name": "stdout",
          "text": [
            "Model: \"sequential_1\"\n",
            "_________________________________________________________________\n",
            " Layer (type)                Output Shape              Param #   \n",
            "=================================================================\n",
            " dense_3 (Dense)             (None, 4)                 40004     \n",
            "                                                                 \n",
            " dense_4 (Dense)             (None, 4)                 20        \n",
            "                                                                 \n",
            " dense_5 (Dense)             (None, 1)                 5         \n",
            "                                                                 \n",
            "=================================================================\n",
            "Total params: 40,029\n",
            "Trainable params: 40,029\n",
            "Non-trainable params: 0\n",
            "_________________________________________________________________\n"
          ]
        }
      ]
    },
    {
      "cell_type": "code",
      "source": [
        "smaller_history = smaller_model.fit(train_data, train_labels, epochs=20, batch_size=512, validation_data=(test_data, test_labels), verbose=0)"
      ],
      "metadata": {
        "id": "r75EjfPz3Kmj"
      },
      "execution_count": null,
      "outputs": []
    },
    {
      "cell_type": "code",
      "source": [
        "#bigger model\n",
        "bigger_model = Sequential()\n",
        "bigger_model.add(Dense(512, activation='relu', input_shape=(NUM_WORDS,)))\n",
        "bigger_model.add(Dense(512, activation='relu'))\n",
        "bigger_model.add(Dense(1, activation='sigmoid'))\n",
        "\n",
        "bigger_model.compile(optimizer='adam',\n",
        "                       loss='binary_crossentropy',\n",
        "                       metrics=['accuracy', 'binary_crossentropy'])\n",
        "\n",
        "bigger_model.summary()"
      ],
      "metadata": {
        "colab": {
          "base_uri": "https://localhost:8080/"
        },
        "id": "5n9x_6gQ3OnU",
        "outputId": "6b0c2e55-b6f2-4b35-9de9-411448552a83"
      },
      "execution_count": null,
      "outputs": [
        {
          "output_type": "stream",
          "name": "stdout",
          "text": [
            "Model: \"sequential_2\"\n",
            "_________________________________________________________________\n",
            " Layer (type)                Output Shape              Param #   \n",
            "=================================================================\n",
            " dense_6 (Dense)             (None, 512)               5120512   \n",
            "                                                                 \n",
            " dense_7 (Dense)             (None, 512)               262656    \n",
            "                                                                 \n",
            " dense_8 (Dense)             (None, 1)                 513       \n",
            "                                                                 \n",
            "=================================================================\n",
            "Total params: 5,383,681\n",
            "Trainable params: 5,383,681\n",
            "Non-trainable params: 0\n",
            "_________________________________________________________________\n"
          ]
        }
      ]
    },
    {
      "cell_type": "code",
      "source": [
        "bigger_history = bigger_model.fit(train_data, train_labels, epochs=20, batch_size=512, validation_data=(test_data, test_labels))"
      ],
      "metadata": {
        "colab": {
          "base_uri": "https://localhost:8080/"
        },
        "id": "K-DM5y6w3qze",
        "outputId": "3f864869-6e63-41ac-b310-b696f34ea0a9"
      },
      "execution_count": null,
      "outputs": [
        {
          "output_type": "stream",
          "name": "stdout",
          "text": [
            "Epoch 1/20\n",
            "49/49 [==============================] - 16s 326ms/step - loss: 0.3461 - accuracy: 0.8496 - binary_crossentropy: 0.3461 - val_loss: 0.2989 - val_accuracy: 0.8769 - val_binary_crossentropy: 0.2989\n",
            "Epoch 2/20\n",
            "49/49 [==============================] - 15s 309ms/step - loss: 0.1454 - accuracy: 0.9476 - binary_crossentropy: 0.1454 - val_loss: 0.3310 - val_accuracy: 0.8727 - val_binary_crossentropy: 0.3310\n",
            "Epoch 3/20\n",
            "49/49 [==============================] - 15s 308ms/step - loss: 0.0490 - accuracy: 0.9853 - binary_crossentropy: 0.0490 - val_loss: 0.4629 - val_accuracy: 0.8648 - val_binary_crossentropy: 0.4629\n",
            "Epoch 4/20\n",
            "49/49 [==============================] - 15s 307ms/step - loss: 0.0084 - accuracy: 0.9984 - binary_crossentropy: 0.0084 - val_loss: 0.5744 - val_accuracy: 0.8696 - val_binary_crossentropy: 0.5744\n",
            "Epoch 5/20\n",
            "49/49 [==============================] - 15s 308ms/step - loss: 0.0013 - accuracy: 1.0000 - binary_crossentropy: 0.0013 - val_loss: 0.6837 - val_accuracy: 0.8701 - val_binary_crossentropy: 0.6837\n",
            "Epoch 6/20\n",
            "49/49 [==============================] - 15s 308ms/step - loss: 2.7564e-04 - accuracy: 1.0000 - binary_crossentropy: 2.7564e-04 - val_loss: 0.7339 - val_accuracy: 0.8701 - val_binary_crossentropy: 0.7339\n",
            "Epoch 7/20\n",
            "49/49 [==============================] - 15s 309ms/step - loss: 1.5788e-04 - accuracy: 1.0000 - binary_crossentropy: 1.5788e-04 - val_loss: 0.7657 - val_accuracy: 0.8703 - val_binary_crossentropy: 0.7657\n",
            "Epoch 8/20\n",
            "49/49 [==============================] - 15s 308ms/step - loss: 1.1131e-04 - accuracy: 1.0000 - binary_crossentropy: 1.1131e-04 - val_loss: 0.7896 - val_accuracy: 0.8704 - val_binary_crossentropy: 0.7896\n",
            "Epoch 9/20\n",
            "49/49 [==============================] - 15s 309ms/step - loss: 8.5000e-05 - accuracy: 1.0000 - binary_crossentropy: 8.5000e-05 - val_loss: 0.8094 - val_accuracy: 0.8706 - val_binary_crossentropy: 0.8094\n",
            "Epoch 10/20\n",
            "49/49 [==============================] - 16s 329ms/step - loss: 6.7298e-05 - accuracy: 1.0000 - binary_crossentropy: 6.7298e-05 - val_loss: 0.8264 - val_accuracy: 0.8707 - val_binary_crossentropy: 0.8264\n",
            "Epoch 11/20\n",
            "49/49 [==============================] - 29s 590ms/step - loss: 5.4927e-05 - accuracy: 1.0000 - binary_crossentropy: 5.4927e-05 - val_loss: 0.8408 - val_accuracy: 0.8711 - val_binary_crossentropy: 0.8408\n",
            "Epoch 12/20\n",
            "49/49 [==============================] - 17s 349ms/step - loss: 4.5615e-05 - accuracy: 1.0000 - binary_crossentropy: 4.5615e-05 - val_loss: 0.8543 - val_accuracy: 0.8712 - val_binary_crossentropy: 0.8543\n",
            "Epoch 13/20\n",
            "49/49 [==============================] - 15s 308ms/step - loss: 3.8662e-05 - accuracy: 1.0000 - binary_crossentropy: 3.8662e-05 - val_loss: 0.8669 - val_accuracy: 0.8712 - val_binary_crossentropy: 0.8669\n",
            "Epoch 14/20\n",
            "49/49 [==============================] - 15s 316ms/step - loss: 3.3054e-05 - accuracy: 1.0000 - binary_crossentropy: 3.3054e-05 - val_loss: 0.8779 - val_accuracy: 0.8710 - val_binary_crossentropy: 0.8779\n",
            "Epoch 15/20\n",
            "49/49 [==============================] - 16s 322ms/step - loss: 2.8582e-05 - accuracy: 1.0000 - binary_crossentropy: 2.8582e-05 - val_loss: 0.8890 - val_accuracy: 0.8710 - val_binary_crossentropy: 0.8890\n",
            "Epoch 16/20\n",
            "49/49 [==============================] - 15s 309ms/step - loss: 2.4909e-05 - accuracy: 1.0000 - binary_crossentropy: 2.4909e-05 - val_loss: 0.8991 - val_accuracy: 0.8711 - val_binary_crossentropy: 0.8991\n",
            "Epoch 17/20\n",
            "49/49 [==============================] - 15s 309ms/step - loss: 2.1866e-05 - accuracy: 1.0000 - binary_crossentropy: 2.1866e-05 - val_loss: 0.9088 - val_accuracy: 0.8714 - val_binary_crossentropy: 0.9088\n",
            "Epoch 18/20\n",
            "49/49 [==============================] - 15s 318ms/step - loss: 1.9331e-05 - accuracy: 1.0000 - binary_crossentropy: 1.9331e-05 - val_loss: 0.9183 - val_accuracy: 0.8712 - val_binary_crossentropy: 0.9183\n",
            "Epoch 19/20\n",
            "49/49 [==============================] - 16s 326ms/step - loss: 1.7161e-05 - accuracy: 1.0000 - binary_crossentropy: 1.7161e-05 - val_loss: 0.9273 - val_accuracy: 0.8713 - val_binary_crossentropy: 0.9273\n",
            "Epoch 20/20\n",
            "49/49 [==============================] - 15s 309ms/step - loss: 1.5311e-05 - accuracy: 1.0000 - binary_crossentropy: 1.5311e-05 - val_loss: 0.9361 - val_accuracy: 0.8712 - val_binary_crossentropy: 0.9361\n"
          ]
        }
      ]
    },
    {
      "cell_type": "code",
      "source": [
        "history = pd.DataFrame(baseline_history.history)\n",
        "history['epochs'] = baseline_history.epoch\n",
        "history.head()"
      ],
      "metadata": {
        "colab": {
          "base_uri": "https://localhost:8080/",
          "height": 206
        },
        "id": "ai7pKOSi3shj",
        "outputId": "c3e42f28-72b6-4731-a615-d8a4a407ea94"
      },
      "execution_count": null,
      "outputs": [
        {
          "output_type": "execute_result",
          "data": {
            "text/plain": [
              "       loss  accuracy  binary_crossentropy  val_loss  val_accuracy  \\\n",
              "0  0.470381   0.81608             0.470381  0.331640       0.87644   \n",
              "1  0.245009   0.91208             0.245009  0.282960       0.88688   \n",
              "2  0.179268   0.93708             0.179268  0.290984       0.88480   \n",
              "3  0.140950   0.95228             0.140950  0.314004       0.87872   \n",
              "4  0.114322   0.96204             0.114322  0.346875       0.87388   \n",
              "\n",
              "   val_binary_crossentropy  epochs  \n",
              "0                 0.331640       0  \n",
              "1                 0.282960       1  \n",
              "2                 0.290984       2  \n",
              "3                 0.314004       3  \n",
              "4                 0.346875       4  "
            ],
            "text/html": [
              "\n",
              "  <div id=\"df-dbd3d800-1ced-49fe-a3a9-a81c5b7a2f88\">\n",
              "    <div class=\"colab-df-container\">\n",
              "      <div>\n",
              "<style scoped>\n",
              "    .dataframe tbody tr th:only-of-type {\n",
              "        vertical-align: middle;\n",
              "    }\n",
              "\n",
              "    .dataframe tbody tr th {\n",
              "        vertical-align: top;\n",
              "    }\n",
              "\n",
              "    .dataframe thead th {\n",
              "        text-align: right;\n",
              "    }\n",
              "</style>\n",
              "<table border=\"1\" class=\"dataframe\">\n",
              "  <thead>\n",
              "    <tr style=\"text-align: right;\">\n",
              "      <th></th>\n",
              "      <th>loss</th>\n",
              "      <th>accuracy</th>\n",
              "      <th>binary_crossentropy</th>\n",
              "      <th>val_loss</th>\n",
              "      <th>val_accuracy</th>\n",
              "      <th>val_binary_crossentropy</th>\n",
              "      <th>epochs</th>\n",
              "    </tr>\n",
              "  </thead>\n",
              "  <tbody>\n",
              "    <tr>\n",
              "      <th>0</th>\n",
              "      <td>0.470381</td>\n",
              "      <td>0.81608</td>\n",
              "      <td>0.470381</td>\n",
              "      <td>0.331640</td>\n",
              "      <td>0.87644</td>\n",
              "      <td>0.331640</td>\n",
              "      <td>0</td>\n",
              "    </tr>\n",
              "    <tr>\n",
              "      <th>1</th>\n",
              "      <td>0.245009</td>\n",
              "      <td>0.91208</td>\n",
              "      <td>0.245009</td>\n",
              "      <td>0.282960</td>\n",
              "      <td>0.88688</td>\n",
              "      <td>0.282960</td>\n",
              "      <td>1</td>\n",
              "    </tr>\n",
              "    <tr>\n",
              "      <th>2</th>\n",
              "      <td>0.179268</td>\n",
              "      <td>0.93708</td>\n",
              "      <td>0.179268</td>\n",
              "      <td>0.290984</td>\n",
              "      <td>0.88480</td>\n",
              "      <td>0.290984</td>\n",
              "      <td>2</td>\n",
              "    </tr>\n",
              "    <tr>\n",
              "      <th>3</th>\n",
              "      <td>0.140950</td>\n",
              "      <td>0.95228</td>\n",
              "      <td>0.140950</td>\n",
              "      <td>0.314004</td>\n",
              "      <td>0.87872</td>\n",
              "      <td>0.314004</td>\n",
              "      <td>3</td>\n",
              "    </tr>\n",
              "    <tr>\n",
              "      <th>4</th>\n",
              "      <td>0.114322</td>\n",
              "      <td>0.96204</td>\n",
              "      <td>0.114322</td>\n",
              "      <td>0.346875</td>\n",
              "      <td>0.87388</td>\n",
              "      <td>0.346875</td>\n",
              "      <td>4</td>\n",
              "    </tr>\n",
              "  </tbody>\n",
              "</table>\n",
              "</div>\n",
              "      <button class=\"colab-df-convert\" onclick=\"convertToInteractive('df-dbd3d800-1ced-49fe-a3a9-a81c5b7a2f88')\"\n",
              "              title=\"Convert this dataframe to an interactive table.\"\n",
              "              style=\"display:none;\">\n",
              "        \n",
              "  <svg xmlns=\"http://www.w3.org/2000/svg\" height=\"24px\"viewBox=\"0 0 24 24\"\n",
              "       width=\"24px\">\n",
              "    <path d=\"M0 0h24v24H0V0z\" fill=\"none\"/>\n",
              "    <path d=\"M18.56 5.44l.94 2.06.94-2.06 2.06-.94-2.06-.94-.94-2.06-.94 2.06-2.06.94zm-11 1L8.5 8.5l.94-2.06 2.06-.94-2.06-.94L8.5 2.5l-.94 2.06-2.06.94zm10 10l.94 2.06.94-2.06 2.06-.94-2.06-.94-.94-2.06-.94 2.06-2.06.94z\"/><path d=\"M17.41 7.96l-1.37-1.37c-.4-.4-.92-.59-1.43-.59-.52 0-1.04.2-1.43.59L10.3 9.45l-7.72 7.72c-.78.78-.78 2.05 0 2.83L4 21.41c.39.39.9.59 1.41.59.51 0 1.02-.2 1.41-.59l7.78-7.78 2.81-2.81c.8-.78.8-2.07 0-2.86zM5.41 20L4 18.59l7.72-7.72 1.47 1.35L5.41 20z\"/>\n",
              "  </svg>\n",
              "      </button>\n",
              "      \n",
              "  <style>\n",
              "    .colab-df-container {\n",
              "      display:flex;\n",
              "      flex-wrap:wrap;\n",
              "      gap: 12px;\n",
              "    }\n",
              "\n",
              "    .colab-df-convert {\n",
              "      background-color: #E8F0FE;\n",
              "      border: none;\n",
              "      border-radius: 50%;\n",
              "      cursor: pointer;\n",
              "      display: none;\n",
              "      fill: #1967D2;\n",
              "      height: 32px;\n",
              "      padding: 0 0 0 0;\n",
              "      width: 32px;\n",
              "    }\n",
              "\n",
              "    .colab-df-convert:hover {\n",
              "      background-color: #E2EBFA;\n",
              "      box-shadow: 0px 1px 2px rgba(60, 64, 67, 0.3), 0px 1px 3px 1px rgba(60, 64, 67, 0.15);\n",
              "      fill: #174EA6;\n",
              "    }\n",
              "\n",
              "    [theme=dark] .colab-df-convert {\n",
              "      background-color: #3B4455;\n",
              "      fill: #D2E3FC;\n",
              "    }\n",
              "\n",
              "    [theme=dark] .colab-df-convert:hover {\n",
              "      background-color: #434B5C;\n",
              "      box-shadow: 0px 1px 3px 1px rgba(0, 0, 0, 0.15);\n",
              "      filter: drop-shadow(0px 1px 2px rgba(0, 0, 0, 0.3));\n",
              "      fill: #FFFFFF;\n",
              "    }\n",
              "  </style>\n",
              "\n",
              "      <script>\n",
              "        const buttonEl =\n",
              "          document.querySelector('#df-dbd3d800-1ced-49fe-a3a9-a81c5b7a2f88 button.colab-df-convert');\n",
              "        buttonEl.style.display =\n",
              "          google.colab.kernel.accessAllowed ? 'block' : 'none';\n",
              "\n",
              "        async function convertToInteractive(key) {\n",
              "          const element = document.querySelector('#df-dbd3d800-1ced-49fe-a3a9-a81c5b7a2f88');\n",
              "          const dataTable =\n",
              "            await google.colab.kernel.invokeFunction('convertToInteractive',\n",
              "                                                     [key], {});\n",
              "          if (!dataTable) return;\n",
              "\n",
              "          const docLinkHtml = 'Like what you see? Visit the ' +\n",
              "            '<a target=\"_blank\" href=https://colab.research.google.com/notebooks/data_table.ipynb>data table notebook</a>'\n",
              "            + ' to learn more about interactive tables.';\n",
              "          element.innerHTML = '';\n",
              "          dataTable['output_type'] = 'display_data';\n",
              "          await google.colab.output.renderOutput(dataTable, element);\n",
              "          const docLink = document.createElement('div');\n",
              "          docLink.innerHTML = docLinkHtml;\n",
              "          element.appendChild(docLink);\n",
              "        }\n",
              "      </script>\n",
              "    </div>\n",
              "  </div>\n",
              "  "
            ]
          },
          "metadata": {},
          "execution_count": 12
        }
      ]
    },
    {
      "cell_type": "code",
      "source": [
        "import plotly.graph_objects as go\n",
        "\n",
        "fig = go.Figure()\n",
        "for name, history in zip(['smaller', 'baseline', 'bigger'], [smaller_history, baseline_history, bigger_history]):\n",
        "    hist = pd.DataFrame(history.history)\n",
        "    hist['epoch'] = history.epoch\n",
        "    fig.add_trace(go.Scatter(x=hist['epoch'], y=hist['binary_crossentropy'], name=name + '_binary_crossentropy', mode='lines+markers'))\n",
        "    fig.add_trace(go.Scatter(x=hist['epoch'], y=hist['val_binary_crossentropy'], name=name + '_val_binary_crossentropy', mode='lines+markers'))\n",
        "    fig.update_layout(xaxis_title='Epoki', yaxis_title='binary_crossentropy')\n",
        "fig.show()"
      ],
      "metadata": {
        "colab": {
          "base_uri": "https://localhost:8080/",
          "height": 542
        },
        "id": "QQZ9iDA25E28",
        "outputId": "ccd80dcb-1368-4a04-a126-2cd514bae273"
      },
      "execution_count": null,
      "outputs": [
        {
          "output_type": "display_data",
          "data": {
            "text/html": [
              "<html>\n",
              "<head><meta charset=\"utf-8\" /></head>\n",
              "<body>\n",
              "    <div>            <script src=\"https://cdnjs.cloudflare.com/ajax/libs/mathjax/2.7.5/MathJax.js?config=TeX-AMS-MML_SVG\"></script><script type=\"text/javascript\">if (window.MathJax) {MathJax.Hub.Config({SVG: {font: \"STIX-Web\"}});}</script>                <script type=\"text/javascript\">window.PlotlyConfig = {MathJaxConfig: 'local'};</script>\n",
              "        <script src=\"https://cdn.plot.ly/plotly-2.8.3.min.js\"></script>                <div id=\"aded2e57-b2aa-4792-81f6-9ab7f0c726db\" class=\"plotly-graph-div\" style=\"height:525px; width:100%;\"></div>            <script type=\"text/javascript\">                                    window.PLOTLYENV=window.PLOTLYENV || {};                                    if (document.getElementById(\"aded2e57-b2aa-4792-81f6-9ab7f0c726db\")) {                    Plotly.newPlot(                        \"aded2e57-b2aa-4792-81f6-9ab7f0c726db\",                        [{\"mode\":\"lines+markers\",\"name\":\"smaller_binary_crossentropy\",\"x\":[0,1,2,3,4,5,6,7,8,9,10,11,12,13,14,15,16,17,18,19],\"y\":[0.6164937615394592,0.5125733017921448,0.45828649401664734,0.42096737027168274,0.39260968565940857,0.3682737946510315,0.34693673253059387,0.32879841327667236,0.31164345145225525,0.2965189814567566,0.2821084260940552,0.26881173253059387,0.25656676292419434,0.2450539618730545,0.23432768881320953,0.22429999709129333,0.21513019502162933,0.20652902126312256,0.19847939908504486,0.19093917310237885],\"type\":\"scatter\"},{\"mode\":\"lines+markers\",\"name\":\"smaller_val_binary_crossentropy\",\"x\":[0,1,2,3,4,5,6,7,8,9,10,11,12,13,14,15,16,17,18,19],\"y\":[0.5620555877685547,0.5043522119522095,0.47328323125839233,0.4552221894264221,0.4489114582538605,0.4388944208621979,0.4313378930091858,0.42712628841400146,0.4263469874858856,0.43195846676826477,0.4259365499019623,0.4318103492259979,0.4531805217266083,0.4479815661907196,0.4529480040073395,0.4586934745311737,0.4791531562805176,0.4666047990322113,0.4966515898704529,0.485506534576416],\"type\":\"scatter\"},{\"mode\":\"lines+markers\",\"name\":\"baseline_binary_crossentropy\",\"x\":[0,1,2,3,4,5,6,7,8,9,10,11,12,13,14,15,16,17,18,19],\"y\":[0.47038114070892334,0.24500857293605804,0.17926837503910065,0.14094960689544678,0.11432161182165146,0.08999517560005188,0.06964349001646042,0.05245203152298927,0.038536667823791504,0.028330186381936073,0.02014288119971752,0.014226140454411507,0.010612600483000278,0.007913193665444851,0.006098797544836998,0.004708815831691027,0.0038209075573831797,0.003156011924147606,0.0026399751659482718,0.002244063653051853],\"type\":\"scatter\"},{\"mode\":\"lines+markers\",\"name\":\"baseline_val_binary_crossentropy\",\"x\":[0,1,2,3,4,5,6,7,8,9,10,11,12,13,14,15,16,17,18,19],\"y\":[0.3316403925418854,0.28295958042144775,0.29098397493362427,0.3140038847923279,0.34687456488609314,0.38513481616973877,0.424226850271225,0.4772131145000458,0.5124690532684326,0.558332085609436,0.6048020124435425,0.6520811319351196,0.6857981085777283,0.7122195363044739,0.7444826364517212,0.7728388905525208,0.8041381239891052,0.8236254453659058,0.8519105315208435,0.8745661973953247],\"type\":\"scatter\"},{\"mode\":\"lines+markers\",\"name\":\"bigger_binary_crossentropy\",\"x\":[0,1,2,3,4,5,6,7,8,9,10,11,12,13,14,15,16,17,18,19],\"y\":[0.3460690677165985,0.14535704255104065,0.04902791976928711,0.00842547882348299,0.0013115796027705073,0.0002756407193373889,0.00015787570737302303,0.0001113109101424925,8.499965042574331e-05,6.729802407789975e-05,5.492733180290088e-05,4.561469904729165e-05,3.866159750032239e-05,3.3053609513444826e-05,2.858218431356363e-05,2.4908509658416733e-05,2.1865864255232736e-05,1.9330918803461827e-05,1.7161128198495135e-05,1.53111650433857e-05],\"type\":\"scatter\"},{\"mode\":\"lines+markers\",\"name\":\"bigger_val_binary_crossentropy\",\"x\":[0,1,2,3,4,5,6,7,8,9,10,11,12,13,14,15,16,17,18,19],\"y\":[0.2989264130592346,0.3310387134552002,0.46292856335639954,0.5744467973709106,0.683718204498291,0.7338978052139282,0.7657392024993896,0.7895985245704651,0.8094227910041809,0.8263823390007019,0.8408234119415283,0.854330837726593,0.8668885827064514,0.8778927326202393,0.8889984488487244,0.8990567326545715,0.9088261127471924,0.9182692766189575,0.9272885322570801,0.9360731840133667],\"type\":\"scatter\"}],                        {\"template\":{\"data\":{\"bar\":[{\"error_x\":{\"color\":\"#2a3f5f\"},\"error_y\":{\"color\":\"#2a3f5f\"},\"marker\":{\"line\":{\"color\":\"#E5ECF6\",\"width\":0.5},\"pattern\":{\"fillmode\":\"overlay\",\"size\":10,\"solidity\":0.2}},\"type\":\"bar\"}],\"barpolar\":[{\"marker\":{\"line\":{\"color\":\"#E5ECF6\",\"width\":0.5},\"pattern\":{\"fillmode\":\"overlay\",\"size\":10,\"solidity\":0.2}},\"type\":\"barpolar\"}],\"carpet\":[{\"aaxis\":{\"endlinecolor\":\"#2a3f5f\",\"gridcolor\":\"white\",\"linecolor\":\"white\",\"minorgridcolor\":\"white\",\"startlinecolor\":\"#2a3f5f\"},\"baxis\":{\"endlinecolor\":\"#2a3f5f\",\"gridcolor\":\"white\",\"linecolor\":\"white\",\"minorgridcolor\":\"white\",\"startlinecolor\":\"#2a3f5f\"},\"type\":\"carpet\"}],\"choropleth\":[{\"colorbar\":{\"outlinewidth\":0,\"ticks\":\"\"},\"type\":\"choropleth\"}],\"contour\":[{\"colorbar\":{\"outlinewidth\":0,\"ticks\":\"\"},\"colorscale\":[[0.0,\"#0d0887\"],[0.1111111111111111,\"#46039f\"],[0.2222222222222222,\"#7201a8\"],[0.3333333333333333,\"#9c179e\"],[0.4444444444444444,\"#bd3786\"],[0.5555555555555556,\"#d8576b\"],[0.6666666666666666,\"#ed7953\"],[0.7777777777777778,\"#fb9f3a\"],[0.8888888888888888,\"#fdca26\"],[1.0,\"#f0f921\"]],\"type\":\"contour\"}],\"contourcarpet\":[{\"colorbar\":{\"outlinewidth\":0,\"ticks\":\"\"},\"type\":\"contourcarpet\"}],\"heatmap\":[{\"colorbar\":{\"outlinewidth\":0,\"ticks\":\"\"},\"colorscale\":[[0.0,\"#0d0887\"],[0.1111111111111111,\"#46039f\"],[0.2222222222222222,\"#7201a8\"],[0.3333333333333333,\"#9c179e\"],[0.4444444444444444,\"#bd3786\"],[0.5555555555555556,\"#d8576b\"],[0.6666666666666666,\"#ed7953\"],[0.7777777777777778,\"#fb9f3a\"],[0.8888888888888888,\"#fdca26\"],[1.0,\"#f0f921\"]],\"type\":\"heatmap\"}],\"heatmapgl\":[{\"colorbar\":{\"outlinewidth\":0,\"ticks\":\"\"},\"colorscale\":[[0.0,\"#0d0887\"],[0.1111111111111111,\"#46039f\"],[0.2222222222222222,\"#7201a8\"],[0.3333333333333333,\"#9c179e\"],[0.4444444444444444,\"#bd3786\"],[0.5555555555555556,\"#d8576b\"],[0.6666666666666666,\"#ed7953\"],[0.7777777777777778,\"#fb9f3a\"],[0.8888888888888888,\"#fdca26\"],[1.0,\"#f0f921\"]],\"type\":\"heatmapgl\"}],\"histogram\":[{\"marker\":{\"pattern\":{\"fillmode\":\"overlay\",\"size\":10,\"solidity\":0.2}},\"type\":\"histogram\"}],\"histogram2d\":[{\"colorbar\":{\"outlinewidth\":0,\"ticks\":\"\"},\"colorscale\":[[0.0,\"#0d0887\"],[0.1111111111111111,\"#46039f\"],[0.2222222222222222,\"#7201a8\"],[0.3333333333333333,\"#9c179e\"],[0.4444444444444444,\"#bd3786\"],[0.5555555555555556,\"#d8576b\"],[0.6666666666666666,\"#ed7953\"],[0.7777777777777778,\"#fb9f3a\"],[0.8888888888888888,\"#fdca26\"],[1.0,\"#f0f921\"]],\"type\":\"histogram2d\"}],\"histogram2dcontour\":[{\"colorbar\":{\"outlinewidth\":0,\"ticks\":\"\"},\"colorscale\":[[0.0,\"#0d0887\"],[0.1111111111111111,\"#46039f\"],[0.2222222222222222,\"#7201a8\"],[0.3333333333333333,\"#9c179e\"],[0.4444444444444444,\"#bd3786\"],[0.5555555555555556,\"#d8576b\"],[0.6666666666666666,\"#ed7953\"],[0.7777777777777778,\"#fb9f3a\"],[0.8888888888888888,\"#fdca26\"],[1.0,\"#f0f921\"]],\"type\":\"histogram2dcontour\"}],\"mesh3d\":[{\"colorbar\":{\"outlinewidth\":0,\"ticks\":\"\"},\"type\":\"mesh3d\"}],\"parcoords\":[{\"line\":{\"colorbar\":{\"outlinewidth\":0,\"ticks\":\"\"}},\"type\":\"parcoords\"}],\"pie\":[{\"automargin\":true,\"type\":\"pie\"}],\"scatter\":[{\"marker\":{\"colorbar\":{\"outlinewidth\":0,\"ticks\":\"\"}},\"type\":\"scatter\"}],\"scatter3d\":[{\"line\":{\"colorbar\":{\"outlinewidth\":0,\"ticks\":\"\"}},\"marker\":{\"colorbar\":{\"outlinewidth\":0,\"ticks\":\"\"}},\"type\":\"scatter3d\"}],\"scattercarpet\":[{\"marker\":{\"colorbar\":{\"outlinewidth\":0,\"ticks\":\"\"}},\"type\":\"scattercarpet\"}],\"scattergeo\":[{\"marker\":{\"colorbar\":{\"outlinewidth\":0,\"ticks\":\"\"}},\"type\":\"scattergeo\"}],\"scattergl\":[{\"marker\":{\"colorbar\":{\"outlinewidth\":0,\"ticks\":\"\"}},\"type\":\"scattergl\"}],\"scattermapbox\":[{\"marker\":{\"colorbar\":{\"outlinewidth\":0,\"ticks\":\"\"}},\"type\":\"scattermapbox\"}],\"scatterpolar\":[{\"marker\":{\"colorbar\":{\"outlinewidth\":0,\"ticks\":\"\"}},\"type\":\"scatterpolar\"}],\"scatterpolargl\":[{\"marker\":{\"colorbar\":{\"outlinewidth\":0,\"ticks\":\"\"}},\"type\":\"scatterpolargl\"}],\"scatterternary\":[{\"marker\":{\"colorbar\":{\"outlinewidth\":0,\"ticks\":\"\"}},\"type\":\"scatterternary\"}],\"surface\":[{\"colorbar\":{\"outlinewidth\":0,\"ticks\":\"\"},\"colorscale\":[[0.0,\"#0d0887\"],[0.1111111111111111,\"#46039f\"],[0.2222222222222222,\"#7201a8\"],[0.3333333333333333,\"#9c179e\"],[0.4444444444444444,\"#bd3786\"],[0.5555555555555556,\"#d8576b\"],[0.6666666666666666,\"#ed7953\"],[0.7777777777777778,\"#fb9f3a\"],[0.8888888888888888,\"#fdca26\"],[1.0,\"#f0f921\"]],\"type\":\"surface\"}],\"table\":[{\"cells\":{\"fill\":{\"color\":\"#EBF0F8\"},\"line\":{\"color\":\"white\"}},\"header\":{\"fill\":{\"color\":\"#C8D4E3\"},\"line\":{\"color\":\"white\"}},\"type\":\"table\"}]},\"layout\":{\"annotationdefaults\":{\"arrowcolor\":\"#2a3f5f\",\"arrowhead\":0,\"arrowwidth\":1},\"autotypenumbers\":\"strict\",\"coloraxis\":{\"colorbar\":{\"outlinewidth\":0,\"ticks\":\"\"}},\"colorscale\":{\"diverging\":[[0,\"#8e0152\"],[0.1,\"#c51b7d\"],[0.2,\"#de77ae\"],[0.3,\"#f1b6da\"],[0.4,\"#fde0ef\"],[0.5,\"#f7f7f7\"],[0.6,\"#e6f5d0\"],[0.7,\"#b8e186\"],[0.8,\"#7fbc41\"],[0.9,\"#4d9221\"],[1,\"#276419\"]],\"sequential\":[[0.0,\"#0d0887\"],[0.1111111111111111,\"#46039f\"],[0.2222222222222222,\"#7201a8\"],[0.3333333333333333,\"#9c179e\"],[0.4444444444444444,\"#bd3786\"],[0.5555555555555556,\"#d8576b\"],[0.6666666666666666,\"#ed7953\"],[0.7777777777777778,\"#fb9f3a\"],[0.8888888888888888,\"#fdca26\"],[1.0,\"#f0f921\"]],\"sequentialminus\":[[0.0,\"#0d0887\"],[0.1111111111111111,\"#46039f\"],[0.2222222222222222,\"#7201a8\"],[0.3333333333333333,\"#9c179e\"],[0.4444444444444444,\"#bd3786\"],[0.5555555555555556,\"#d8576b\"],[0.6666666666666666,\"#ed7953\"],[0.7777777777777778,\"#fb9f3a\"],[0.8888888888888888,\"#fdca26\"],[1.0,\"#f0f921\"]]},\"colorway\":[\"#636efa\",\"#EF553B\",\"#00cc96\",\"#ab63fa\",\"#FFA15A\",\"#19d3f3\",\"#FF6692\",\"#B6E880\",\"#FF97FF\",\"#FECB52\"],\"font\":{\"color\":\"#2a3f5f\"},\"geo\":{\"bgcolor\":\"white\",\"lakecolor\":\"white\",\"landcolor\":\"#E5ECF6\",\"showlakes\":true,\"showland\":true,\"subunitcolor\":\"white\"},\"hoverlabel\":{\"align\":\"left\"},\"hovermode\":\"closest\",\"mapbox\":{\"style\":\"light\"},\"paper_bgcolor\":\"white\",\"plot_bgcolor\":\"#E5ECF6\",\"polar\":{\"angularaxis\":{\"gridcolor\":\"white\",\"linecolor\":\"white\",\"ticks\":\"\"},\"bgcolor\":\"#E5ECF6\",\"radialaxis\":{\"gridcolor\":\"white\",\"linecolor\":\"white\",\"ticks\":\"\"}},\"scene\":{\"xaxis\":{\"backgroundcolor\":\"#E5ECF6\",\"gridcolor\":\"white\",\"gridwidth\":2,\"linecolor\":\"white\",\"showbackground\":true,\"ticks\":\"\",\"zerolinecolor\":\"white\"},\"yaxis\":{\"backgroundcolor\":\"#E5ECF6\",\"gridcolor\":\"white\",\"gridwidth\":2,\"linecolor\":\"white\",\"showbackground\":true,\"ticks\":\"\",\"zerolinecolor\":\"white\"},\"zaxis\":{\"backgroundcolor\":\"#E5ECF6\",\"gridcolor\":\"white\",\"gridwidth\":2,\"linecolor\":\"white\",\"showbackground\":true,\"ticks\":\"\",\"zerolinecolor\":\"white\"}},\"shapedefaults\":{\"line\":{\"color\":\"#2a3f5f\"}},\"ternary\":{\"aaxis\":{\"gridcolor\":\"white\",\"linecolor\":\"white\",\"ticks\":\"\"},\"baxis\":{\"gridcolor\":\"white\",\"linecolor\":\"white\",\"ticks\":\"\"},\"bgcolor\":\"#E5ECF6\",\"caxis\":{\"gridcolor\":\"white\",\"linecolor\":\"white\",\"ticks\":\"\"}},\"title\":{\"x\":0.05},\"xaxis\":{\"automargin\":true,\"gridcolor\":\"white\",\"linecolor\":\"white\",\"ticks\":\"\",\"title\":{\"standoff\":15},\"zerolinecolor\":\"white\",\"zerolinewidth\":2},\"yaxis\":{\"automargin\":true,\"gridcolor\":\"white\",\"linecolor\":\"white\",\"ticks\":\"\",\"title\":{\"standoff\":15},\"zerolinecolor\":\"white\",\"zerolinewidth\":2}}},\"xaxis\":{\"title\":{\"text\":\"Epoki\"}},\"yaxis\":{\"title\":{\"text\":\"binary_crossentropy\"}}},                        {\"responsive\": true}                    ).then(function(){\n",
              "                            \n",
              "var gd = document.getElementById('aded2e57-b2aa-4792-81f6-9ab7f0c726db');\n",
              "var x = new MutationObserver(function (mutations, observer) {{\n",
              "        var display = window.getComputedStyle(gd).display;\n",
              "        if (!display || display === 'none') {{\n",
              "            console.log([gd, 'removed!']);\n",
              "            Plotly.purge(gd);\n",
              "            observer.disconnect();\n",
              "        }}\n",
              "}});\n",
              "\n",
              "// Listen for the removal of the full notebook cells\n",
              "var notebookContainer = gd.closest('#notebook-container');\n",
              "if (notebookContainer) {{\n",
              "    x.observe(notebookContainer, {childList: true});\n",
              "}}\n",
              "\n",
              "// Listen for the clearing of the current output cell\n",
              "var outputEl = gd.closest('.output');\n",
              "if (outputEl) {{\n",
              "    x.observe(outputEl, {childList: true});\n",
              "}}\n",
              "\n",
              "                        })                };                            </script>        </div>\n",
              "</body>\n",
              "</html>"
            ]
          },
          "metadata": {}
        }
      ]
    },
    {
      "cell_type": "code",
      "source": [
        "from tensorflow.keras.regularizers import l2\n",
        "\n",
        "l2_model = Sequential()\n",
        "l2_model.add(Dense(16, kernel_regularizer=l2(0.001), activation='relu', input_shape=(NUM_WORDS,)))\n",
        "l2_model.add(Dense(16, kernel_regularizer=l2(0.01), activation='relu'))\n",
        "l2_model.add(Dense(1, activation='sigmoid'))\n",
        "\n",
        "l2_model.compile(optimizer='adam',\n",
        "                 loss='binary_crossentropy',\n",
        "                 metrics=['accuracy', 'binary_crossentropy'])\n",
        "\n",
        "l2_model.summary()"
      ],
      "metadata": {
        "id": "EAhF-tL_5lzK",
        "colab": {
          "base_uri": "https://localhost:8080/"
        },
        "outputId": "919ae75f-dceb-495a-e3f0-66e48912cbf3"
      },
      "execution_count": 7,
      "outputs": [
        {
          "output_type": "stream",
          "name": "stdout",
          "text": [
            "Model: \"sequential_1\"\n",
            "_________________________________________________________________\n",
            " Layer (type)                Output Shape              Param #   \n",
            "=================================================================\n",
            " dense (Dense)               (None, 16)                160016    \n",
            "                                                                 \n",
            " dense_1 (Dense)             (None, 16)                272       \n",
            "                                                                 \n",
            " dense_2 (Dense)             (None, 1)                 17        \n",
            "                                                                 \n",
            "=================================================================\n",
            "Total params: 160,305\n",
            "Trainable params: 160,305\n",
            "Non-trainable params: 0\n",
            "_________________________________________________________________\n"
          ]
        }
      ]
    },
    {
      "cell_type": "code",
      "source": [
        "l2_model_history = l2_model.fit(train_data, train_labels, epochs=20, batch_size=512, validation_data=(test_data, test_labels))"
      ],
      "metadata": {
        "colab": {
          "base_uri": "https://localhost:8080/"
        },
        "id": "eQXpZG3lZ-X0",
        "outputId": "9dd50b20-4c72-45ee-9d28-f52aab921e6c"
      },
      "execution_count": 8,
      "outputs": [
        {
          "output_type": "stream",
          "name": "stdout",
          "text": [
            "Epoch 1/20\n",
            "49/49 [==============================] - 5s 65ms/step - loss: 0.6551 - accuracy: 0.8109 - binary_crossentropy: 0.4744 - val_loss: 0.5026 - val_accuracy: 0.8785 - val_binary_crossentropy: 0.3355\n",
            "Epoch 2/20\n",
            "49/49 [==============================] - 3s 58ms/step - loss: 0.4177 - accuracy: 0.9088 - binary_crossentropy: 0.2574 - val_loss: 0.4410 - val_accuracy: 0.8866 - val_binary_crossentropy: 0.2894\n",
            "Epoch 3/20\n",
            "49/49 [==============================] - 2s 46ms/step - loss: 0.3486 - accuracy: 0.9306 - binary_crossentropy: 0.2038 - val_loss: 0.4208 - val_accuracy: 0.8865 - val_binary_crossentropy: 0.2832\n",
            "Epoch 4/20\n",
            "49/49 [==============================] - 2s 46ms/step - loss: 0.3118 - accuracy: 0.9392 - binary_crossentropy: 0.1799 - val_loss: 0.4149 - val_accuracy: 0.8827 - val_binary_crossentropy: 0.2892\n",
            "Epoch 5/20\n",
            "49/49 [==============================] - 2s 46ms/step - loss: 0.2865 - accuracy: 0.9463 - binary_crossentropy: 0.1649 - val_loss: 0.4087 - val_accuracy: 0.8813 - val_binary_crossentropy: 0.2920\n",
            "Epoch 6/20\n",
            "49/49 [==============================] - 2s 46ms/step - loss: 0.2697 - accuracy: 0.9483 - binary_crossentropy: 0.1560 - val_loss: 0.4138 - val_accuracy: 0.8784 - val_binary_crossentropy: 0.3039\n",
            "Epoch 7/20\n",
            "49/49 [==============================] - 2s 46ms/step - loss: 0.2551 - accuracy: 0.9518 - binary_crossentropy: 0.1477 - val_loss: 0.4095 - val_accuracy: 0.8778 - val_binary_crossentropy: 0.3051\n",
            "Epoch 8/20\n",
            "49/49 [==============================] - 2s 46ms/step - loss: 0.2435 - accuracy: 0.9540 - binary_crossentropy: 0.1411 - val_loss: 0.4114 - val_accuracy: 0.8761 - val_binary_crossentropy: 0.3112\n",
            "Epoch 9/20\n",
            "49/49 [==============================] - 2s 46ms/step - loss: 0.2365 - accuracy: 0.9550 - binary_crossentropy: 0.1375 - val_loss: 0.4142 - val_accuracy: 0.8744 - val_binary_crossentropy: 0.3169\n",
            "Epoch 10/20\n",
            "49/49 [==============================] - 2s 46ms/step - loss: 0.2293 - accuracy: 0.9552 - binary_crossentropy: 0.1329 - val_loss: 0.4162 - val_accuracy: 0.8735 - val_binary_crossentropy: 0.3211\n",
            "Epoch 11/20\n",
            "49/49 [==============================] - 2s 47ms/step - loss: 0.2224 - accuracy: 0.9590 - binary_crossentropy: 0.1281 - val_loss: 0.4200 - val_accuracy: 0.8716 - val_binary_crossentropy: 0.3269\n",
            "Epoch 12/20\n",
            "49/49 [==============================] - 2s 47ms/step - loss: 0.2175 - accuracy: 0.9603 - binary_crossentropy: 0.1247 - val_loss: 0.4225 - val_accuracy: 0.8722 - val_binary_crossentropy: 0.3309\n",
            "Epoch 13/20\n",
            "49/49 [==============================] - 2s 47ms/step - loss: 0.2142 - accuracy: 0.9611 - binary_crossentropy: 0.1230 - val_loss: 0.4305 - val_accuracy: 0.8694 - val_binary_crossentropy: 0.3399\n",
            "Epoch 14/20\n",
            "49/49 [==============================] - 2s 47ms/step - loss: 0.2110 - accuracy: 0.9605 - binary_crossentropy: 0.1205 - val_loss: 0.4315 - val_accuracy: 0.8693 - val_binary_crossentropy: 0.3418\n",
            "Epoch 15/20\n",
            "49/49 [==============================] - 2s 48ms/step - loss: 0.2060 - accuracy: 0.9635 - binary_crossentropy: 0.1166 - val_loss: 0.4333 - val_accuracy: 0.8709 - val_binary_crossentropy: 0.3445\n",
            "Epoch 16/20\n",
            "49/49 [==============================] - 2s 46ms/step - loss: 0.2020 - accuracy: 0.9641 - binary_crossentropy: 0.1132 - val_loss: 0.4383 - val_accuracy: 0.8688 - val_binary_crossentropy: 0.3500\n",
            "Epoch 17/20\n",
            "49/49 [==============================] - 3s 66ms/step - loss: 0.2016 - accuracy: 0.9637 - binary_crossentropy: 0.1134 - val_loss: 0.4413 - val_accuracy: 0.8670 - val_binary_crossentropy: 0.3536\n",
            "Epoch 18/20\n",
            "49/49 [==============================] - 3s 53ms/step - loss: 0.1991 - accuracy: 0.9643 - binary_crossentropy: 0.1114 - val_loss: 0.4510 - val_accuracy: 0.8662 - val_binary_crossentropy: 0.3637\n",
            "Epoch 19/20\n",
            "49/49 [==============================] - 2s 47ms/step - loss: 0.1971 - accuracy: 0.9645 - binary_crossentropy: 0.1098 - val_loss: 0.4492 - val_accuracy: 0.8654 - val_binary_crossentropy: 0.3623\n",
            "Epoch 20/20\n",
            "49/49 [==============================] - 2s 45ms/step - loss: 0.1937 - accuracy: 0.9656 - binary_crossentropy: 0.1070 - val_loss: 0.4496 - val_accuracy: 0.8666 - val_binary_crossentropy: 0.3633\n"
          ]
        }
      ]
    },
    {
      "cell_type": "code",
      "source": [
        "import plotly.graph_objects as go\n",
        "\n",
        "fig = go.Figure()\n",
        "for name, history in zip(['baseline', 'l2'], [baseline_history, l2_model_history]):\n",
        "    hist = pd.DataFrame(history.history)\n",
        "    hist['epoch'] = history.epoch\n",
        "    fig.add_trace(go.Scatter(x=hist['epoch'], y=hist['binary_crossentropy'], name=name + '_binary_crossentropy', mode='lines+markers'))\n",
        "    fig.add_trace(go.Scatter(x=hist['epoch'], y=hist['val_binary_crossentropy'], name=name + '_val_binary_crossentropy', mode='lines+markers'))\n",
        "    fig.update_layout(xaxis_title='Epoki', yaxis_title='binary_crossentropy')\n",
        "fig.show()"
      ],
      "metadata": {
        "colab": {
          "base_uri": "https://localhost:8080/",
          "height": 542
        },
        "id": "iwcFCGMvaI9V",
        "outputId": "5908da7a-210e-4423-8c38-bff973da4c4a"
      },
      "execution_count": 12,
      "outputs": [
        {
          "output_type": "display_data",
          "data": {
            "text/html": [
              "<html>\n",
              "<head><meta charset=\"utf-8\" /></head>\n",
              "<body>\n",
              "    <div>            <script src=\"https://cdnjs.cloudflare.com/ajax/libs/mathjax/2.7.5/MathJax.js?config=TeX-AMS-MML_SVG\"></script><script type=\"text/javascript\">if (window.MathJax) {MathJax.Hub.Config({SVG: {font: \"STIX-Web\"}});}</script>                <script type=\"text/javascript\">window.PlotlyConfig = {MathJaxConfig: 'local'};</script>\n",
              "        <script src=\"https://cdn.plot.ly/plotly-2.8.3.min.js\"></script>                <div id=\"889fa721-b5c9-4992-9f85-62b2a8a6e55a\" class=\"plotly-graph-div\" style=\"height:525px; width:100%;\"></div>            <script type=\"text/javascript\">                                    window.PLOTLYENV=window.PLOTLYENV || {};                                    if (document.getElementById(\"889fa721-b5c9-4992-9f85-62b2a8a6e55a\")) {                    Plotly.newPlot(                        \"889fa721-b5c9-4992-9f85-62b2a8a6e55a\",                        [{\"mode\":\"lines+markers\",\"name\":\"baseline_binary_crossentropy\",\"x\":[0,1,2,3,4,5,6,7,8,9,10,11,12,13,14,15,16,17,18,19],\"y\":[0.4909190237522125,0.25986477732658386,0.18816912174224854,0.1491256207227707,0.12032230198383331,0.09637155383825302,0.0750940591096878,0.05613930523395538,0.04043518006801605,0.028114808723330498,0.019744928926229477,0.01395440474152565,0.010134473443031311,0.007616695016622543,0.005822382401674986,0.004658694379031658,0.0037438981235027313,0.003088544588536024,0.0026125379372388124,0.00221974216401577],\"type\":\"scatter\"},{\"mode\":\"lines+markers\",\"name\":\"baseline_val_binary_crossentropy\",\"x\":[0,1,2,3,4,5,6,7,8,9,10,11,12,13,14,15,16,17,18,19],\"y\":[0.3503269851207733,0.28418320417404175,0.28596407175064087,0.3036312162876129,0.33010393381118774,0.36464059352874756,0.39557912945747375,0.43774616718292236,0.47914713621139526,0.516401469707489,0.5502673983573914,0.584658682346344,0.6190156936645508,0.6461417078971863,0.6707329154014587,0.6988406181335449,0.7198507785797119,0.7391708493232727,0.7599019408226013,0.7772899866104126],\"type\":\"scatter\"},{\"mode\":\"lines+markers\",\"name\":\"l2_binary_crossentropy\",\"x\":[0,1,2,3,4,5,6,7,8,9,10,11,12,13,14,15,16,17,18,19],\"y\":[0.4743502736091614,0.25738686323165894,0.20375598967075348,0.17991556227207184,0.16494539380073547,0.1559729278087616,0.1477387249469757,0.14107616245746613,0.13747023046016693,0.13290932774543762,0.12806282937526703,0.12472838163375854,0.12301867455244064,0.12049690634012222,0.11659496277570724,0.11320669203996658,0.11343593895435333,0.11136014759540558,0.10978986322879791,0.10701043903827667],\"type\":\"scatter\"},{\"mode\":\"lines+markers\",\"name\":\"l2_val_binary_crossentropy\",\"x\":[0,1,2,3,4,5,6,7,8,9,10,11,12,13,14,15,16,17,18,19],\"y\":[0.33549997210502625,0.2893909513950348,0.28323447704315186,0.28915324807167053,0.29198700189590454,0.30387189984321594,0.3051315248012543,0.31123286485671997,0.3168545067310333,0.3210897743701935,0.3269236385822296,0.3308583199977875,0.3399379551410675,0.34177854657173157,0.3444581627845764,0.34996339678764343,0.3535861074924469,0.36373114585876465,0.36232781410217285,0.36330315470695496],\"type\":\"scatter\"}],                        {\"template\":{\"data\":{\"bar\":[{\"error_x\":{\"color\":\"#2a3f5f\"},\"error_y\":{\"color\":\"#2a3f5f\"},\"marker\":{\"line\":{\"color\":\"#E5ECF6\",\"width\":0.5},\"pattern\":{\"fillmode\":\"overlay\",\"size\":10,\"solidity\":0.2}},\"type\":\"bar\"}],\"barpolar\":[{\"marker\":{\"line\":{\"color\":\"#E5ECF6\",\"width\":0.5},\"pattern\":{\"fillmode\":\"overlay\",\"size\":10,\"solidity\":0.2}},\"type\":\"barpolar\"}],\"carpet\":[{\"aaxis\":{\"endlinecolor\":\"#2a3f5f\",\"gridcolor\":\"white\",\"linecolor\":\"white\",\"minorgridcolor\":\"white\",\"startlinecolor\":\"#2a3f5f\"},\"baxis\":{\"endlinecolor\":\"#2a3f5f\",\"gridcolor\":\"white\",\"linecolor\":\"white\",\"minorgridcolor\":\"white\",\"startlinecolor\":\"#2a3f5f\"},\"type\":\"carpet\"}],\"choropleth\":[{\"colorbar\":{\"outlinewidth\":0,\"ticks\":\"\"},\"type\":\"choropleth\"}],\"contour\":[{\"colorbar\":{\"outlinewidth\":0,\"ticks\":\"\"},\"colorscale\":[[0.0,\"#0d0887\"],[0.1111111111111111,\"#46039f\"],[0.2222222222222222,\"#7201a8\"],[0.3333333333333333,\"#9c179e\"],[0.4444444444444444,\"#bd3786\"],[0.5555555555555556,\"#d8576b\"],[0.6666666666666666,\"#ed7953\"],[0.7777777777777778,\"#fb9f3a\"],[0.8888888888888888,\"#fdca26\"],[1.0,\"#f0f921\"]],\"type\":\"contour\"}],\"contourcarpet\":[{\"colorbar\":{\"outlinewidth\":0,\"ticks\":\"\"},\"type\":\"contourcarpet\"}],\"heatmap\":[{\"colorbar\":{\"outlinewidth\":0,\"ticks\":\"\"},\"colorscale\":[[0.0,\"#0d0887\"],[0.1111111111111111,\"#46039f\"],[0.2222222222222222,\"#7201a8\"],[0.3333333333333333,\"#9c179e\"],[0.4444444444444444,\"#bd3786\"],[0.5555555555555556,\"#d8576b\"],[0.6666666666666666,\"#ed7953\"],[0.7777777777777778,\"#fb9f3a\"],[0.8888888888888888,\"#fdca26\"],[1.0,\"#f0f921\"]],\"type\":\"heatmap\"}],\"heatmapgl\":[{\"colorbar\":{\"outlinewidth\":0,\"ticks\":\"\"},\"colorscale\":[[0.0,\"#0d0887\"],[0.1111111111111111,\"#46039f\"],[0.2222222222222222,\"#7201a8\"],[0.3333333333333333,\"#9c179e\"],[0.4444444444444444,\"#bd3786\"],[0.5555555555555556,\"#d8576b\"],[0.6666666666666666,\"#ed7953\"],[0.7777777777777778,\"#fb9f3a\"],[0.8888888888888888,\"#fdca26\"],[1.0,\"#f0f921\"]],\"type\":\"heatmapgl\"}],\"histogram\":[{\"marker\":{\"pattern\":{\"fillmode\":\"overlay\",\"size\":10,\"solidity\":0.2}},\"type\":\"histogram\"}],\"histogram2d\":[{\"colorbar\":{\"outlinewidth\":0,\"ticks\":\"\"},\"colorscale\":[[0.0,\"#0d0887\"],[0.1111111111111111,\"#46039f\"],[0.2222222222222222,\"#7201a8\"],[0.3333333333333333,\"#9c179e\"],[0.4444444444444444,\"#bd3786\"],[0.5555555555555556,\"#d8576b\"],[0.6666666666666666,\"#ed7953\"],[0.7777777777777778,\"#fb9f3a\"],[0.8888888888888888,\"#fdca26\"],[1.0,\"#f0f921\"]],\"type\":\"histogram2d\"}],\"histogram2dcontour\":[{\"colorbar\":{\"outlinewidth\":0,\"ticks\":\"\"},\"colorscale\":[[0.0,\"#0d0887\"],[0.1111111111111111,\"#46039f\"],[0.2222222222222222,\"#7201a8\"],[0.3333333333333333,\"#9c179e\"],[0.4444444444444444,\"#bd3786\"],[0.5555555555555556,\"#d8576b\"],[0.6666666666666666,\"#ed7953\"],[0.7777777777777778,\"#fb9f3a\"],[0.8888888888888888,\"#fdca26\"],[1.0,\"#f0f921\"]],\"type\":\"histogram2dcontour\"}],\"mesh3d\":[{\"colorbar\":{\"outlinewidth\":0,\"ticks\":\"\"},\"type\":\"mesh3d\"}],\"parcoords\":[{\"line\":{\"colorbar\":{\"outlinewidth\":0,\"ticks\":\"\"}},\"type\":\"parcoords\"}],\"pie\":[{\"automargin\":true,\"type\":\"pie\"}],\"scatter\":[{\"marker\":{\"colorbar\":{\"outlinewidth\":0,\"ticks\":\"\"}},\"type\":\"scatter\"}],\"scatter3d\":[{\"line\":{\"colorbar\":{\"outlinewidth\":0,\"ticks\":\"\"}},\"marker\":{\"colorbar\":{\"outlinewidth\":0,\"ticks\":\"\"}},\"type\":\"scatter3d\"}],\"scattercarpet\":[{\"marker\":{\"colorbar\":{\"outlinewidth\":0,\"ticks\":\"\"}},\"type\":\"scattercarpet\"}],\"scattergeo\":[{\"marker\":{\"colorbar\":{\"outlinewidth\":0,\"ticks\":\"\"}},\"type\":\"scattergeo\"}],\"scattergl\":[{\"marker\":{\"colorbar\":{\"outlinewidth\":0,\"ticks\":\"\"}},\"type\":\"scattergl\"}],\"scattermapbox\":[{\"marker\":{\"colorbar\":{\"outlinewidth\":0,\"ticks\":\"\"}},\"type\":\"scattermapbox\"}],\"scatterpolar\":[{\"marker\":{\"colorbar\":{\"outlinewidth\":0,\"ticks\":\"\"}},\"type\":\"scatterpolar\"}],\"scatterpolargl\":[{\"marker\":{\"colorbar\":{\"outlinewidth\":0,\"ticks\":\"\"}},\"type\":\"scatterpolargl\"}],\"scatterternary\":[{\"marker\":{\"colorbar\":{\"outlinewidth\":0,\"ticks\":\"\"}},\"type\":\"scatterternary\"}],\"surface\":[{\"colorbar\":{\"outlinewidth\":0,\"ticks\":\"\"},\"colorscale\":[[0.0,\"#0d0887\"],[0.1111111111111111,\"#46039f\"],[0.2222222222222222,\"#7201a8\"],[0.3333333333333333,\"#9c179e\"],[0.4444444444444444,\"#bd3786\"],[0.5555555555555556,\"#d8576b\"],[0.6666666666666666,\"#ed7953\"],[0.7777777777777778,\"#fb9f3a\"],[0.8888888888888888,\"#fdca26\"],[1.0,\"#f0f921\"]],\"type\":\"surface\"}],\"table\":[{\"cells\":{\"fill\":{\"color\":\"#EBF0F8\"},\"line\":{\"color\":\"white\"}},\"header\":{\"fill\":{\"color\":\"#C8D4E3\"},\"line\":{\"color\":\"white\"}},\"type\":\"table\"}]},\"layout\":{\"annotationdefaults\":{\"arrowcolor\":\"#2a3f5f\",\"arrowhead\":0,\"arrowwidth\":1},\"autotypenumbers\":\"strict\",\"coloraxis\":{\"colorbar\":{\"outlinewidth\":0,\"ticks\":\"\"}},\"colorscale\":{\"diverging\":[[0,\"#8e0152\"],[0.1,\"#c51b7d\"],[0.2,\"#de77ae\"],[0.3,\"#f1b6da\"],[0.4,\"#fde0ef\"],[0.5,\"#f7f7f7\"],[0.6,\"#e6f5d0\"],[0.7,\"#b8e186\"],[0.8,\"#7fbc41\"],[0.9,\"#4d9221\"],[1,\"#276419\"]],\"sequential\":[[0.0,\"#0d0887\"],[0.1111111111111111,\"#46039f\"],[0.2222222222222222,\"#7201a8\"],[0.3333333333333333,\"#9c179e\"],[0.4444444444444444,\"#bd3786\"],[0.5555555555555556,\"#d8576b\"],[0.6666666666666666,\"#ed7953\"],[0.7777777777777778,\"#fb9f3a\"],[0.8888888888888888,\"#fdca26\"],[1.0,\"#f0f921\"]],\"sequentialminus\":[[0.0,\"#0d0887\"],[0.1111111111111111,\"#46039f\"],[0.2222222222222222,\"#7201a8\"],[0.3333333333333333,\"#9c179e\"],[0.4444444444444444,\"#bd3786\"],[0.5555555555555556,\"#d8576b\"],[0.6666666666666666,\"#ed7953\"],[0.7777777777777778,\"#fb9f3a\"],[0.8888888888888888,\"#fdca26\"],[1.0,\"#f0f921\"]]},\"colorway\":[\"#636efa\",\"#EF553B\",\"#00cc96\",\"#ab63fa\",\"#FFA15A\",\"#19d3f3\",\"#FF6692\",\"#B6E880\",\"#FF97FF\",\"#FECB52\"],\"font\":{\"color\":\"#2a3f5f\"},\"geo\":{\"bgcolor\":\"white\",\"lakecolor\":\"white\",\"landcolor\":\"#E5ECF6\",\"showlakes\":true,\"showland\":true,\"subunitcolor\":\"white\"},\"hoverlabel\":{\"align\":\"left\"},\"hovermode\":\"closest\",\"mapbox\":{\"style\":\"light\"},\"paper_bgcolor\":\"white\",\"plot_bgcolor\":\"#E5ECF6\",\"polar\":{\"angularaxis\":{\"gridcolor\":\"white\",\"linecolor\":\"white\",\"ticks\":\"\"},\"bgcolor\":\"#E5ECF6\",\"radialaxis\":{\"gridcolor\":\"white\",\"linecolor\":\"white\",\"ticks\":\"\"}},\"scene\":{\"xaxis\":{\"backgroundcolor\":\"#E5ECF6\",\"gridcolor\":\"white\",\"gridwidth\":2,\"linecolor\":\"white\",\"showbackground\":true,\"ticks\":\"\",\"zerolinecolor\":\"white\"},\"yaxis\":{\"backgroundcolor\":\"#E5ECF6\",\"gridcolor\":\"white\",\"gridwidth\":2,\"linecolor\":\"white\",\"showbackground\":true,\"ticks\":\"\",\"zerolinecolor\":\"white\"},\"zaxis\":{\"backgroundcolor\":\"#E5ECF6\",\"gridcolor\":\"white\",\"gridwidth\":2,\"linecolor\":\"white\",\"showbackground\":true,\"ticks\":\"\",\"zerolinecolor\":\"white\"}},\"shapedefaults\":{\"line\":{\"color\":\"#2a3f5f\"}},\"ternary\":{\"aaxis\":{\"gridcolor\":\"white\",\"linecolor\":\"white\",\"ticks\":\"\"},\"baxis\":{\"gridcolor\":\"white\",\"linecolor\":\"white\",\"ticks\":\"\"},\"bgcolor\":\"#E5ECF6\",\"caxis\":{\"gridcolor\":\"white\",\"linecolor\":\"white\",\"ticks\":\"\"}},\"title\":{\"x\":0.05},\"xaxis\":{\"automargin\":true,\"gridcolor\":\"white\",\"linecolor\":\"white\",\"ticks\":\"\",\"title\":{\"standoff\":15},\"zerolinecolor\":\"white\",\"zerolinewidth\":2},\"yaxis\":{\"automargin\":true,\"gridcolor\":\"white\",\"linecolor\":\"white\",\"ticks\":\"\",\"title\":{\"standoff\":15},\"zerolinecolor\":\"white\",\"zerolinewidth\":2}}},\"xaxis\":{\"title\":{\"text\":\"Epoki\"}},\"yaxis\":{\"title\":{\"text\":\"binary_crossentropy\"}}},                        {\"responsive\": true}                    ).then(function(){\n",
              "                            \n",
              "var gd = document.getElementById('889fa721-b5c9-4992-9f85-62b2a8a6e55a');\n",
              "var x = new MutationObserver(function (mutations, observer) {{\n",
              "        var display = window.getComputedStyle(gd).display;\n",
              "        if (!display || display === 'none') {{\n",
              "            console.log([gd, 'removed!']);\n",
              "            Plotly.purge(gd);\n",
              "            observer.disconnect();\n",
              "        }}\n",
              "}});\n",
              "\n",
              "// Listen for the removal of the full notebook cells\n",
              "var notebookContainer = gd.closest('#notebook-container');\n",
              "if (notebookContainer) {{\n",
              "    x.observe(notebookContainer, {childList: true});\n",
              "}}\n",
              "\n",
              "// Listen for the clearing of the current output cell\n",
              "var outputEl = gd.closest('.output');\n",
              "if (outputEl) {{\n",
              "    x.observe(outputEl, {childList: true});\n",
              "}}\n",
              "\n",
              "                        })                };                            </script>        </div>\n",
              "</body>\n",
              "</html>"
            ]
          },
          "metadata": {}
        }
      ]
    },
    {
      "cell_type": "code",
      "source": [
        "from tensorflow.keras.layers import Dropout\n",
        "\n",
        "dropout_model = Sequential()\n",
        "dropout_model.add(Dense(16, activation='relu', input_shape=(NUM_WORDS,)))\n",
        "dropout_model.add(Dropout(0.5))\n",
        "dropout_model.add(Dense(16, activation='relu'))\n",
        "dropout_model.add(Dropout(0.5))\n",
        "dropout_model.add(Dense(1, activation='sigmoid'))\n",
        "\n",
        "dropout_model.compile(optimizer='adam',\n",
        "                 loss='binary_crossentropy',\n",
        "                 metrics=['accuracy', 'binary_crossentropy'])\n",
        "\n",
        "dropout_model.summary()"
      ],
      "metadata": {
        "colab": {
          "base_uri": "https://localhost:8080/"
        },
        "id": "J5ItYoJoatpV",
        "outputId": "3632f377-2052-4dae-f7af-89be19ad8ea8"
      },
      "execution_count": 13,
      "outputs": [
        {
          "output_type": "stream",
          "name": "stdout",
          "text": [
            "Model: \"sequential_3\"\n",
            "_________________________________________________________________\n",
            " Layer (type)                Output Shape              Param #   \n",
            "=================================================================\n",
            " dense_6 (Dense)             (None, 16)                160016    \n",
            "                                                                 \n",
            " dropout (Dropout)           (None, 16)                0         \n",
            "                                                                 \n",
            " dense_7 (Dense)             (None, 16)                272       \n",
            "                                                                 \n",
            " dropout_1 (Dropout)         (None, 16)                0         \n",
            "                                                                 \n",
            " dense_8 (Dense)             (None, 1)                 17        \n",
            "                                                                 \n",
            "=================================================================\n",
            "Total params: 160,305\n",
            "Trainable params: 160,305\n",
            "Non-trainable params: 0\n",
            "_________________________________________________________________\n"
          ]
        }
      ]
    },
    {
      "cell_type": "code",
      "source": [
        "dropout_history = dropout_model.fit(train_data, train_labels, epochs=20, batch_size=512, validation_data=(test_data, test_labels))"
      ],
      "metadata": {
        "colab": {
          "base_uri": "https://localhost:8080/"
        },
        "id": "24w4bstsbcHA",
        "outputId": "0a4cbcda-c1f2-44df-9e07-96227b626617"
      },
      "execution_count": 14,
      "outputs": [
        {
          "output_type": "stream",
          "name": "stdout",
          "text": [
            "Epoch 1/20\n",
            "49/49 [==============================] - 4s 71ms/step - loss: 0.6125 - accuracy: 0.6637 - binary_crossentropy: 0.6125 - val_loss: 0.4528 - val_accuracy: 0.8587 - val_binary_crossentropy: 0.4528\n",
            "Epoch 2/20\n",
            "49/49 [==============================] - 2s 44ms/step - loss: 0.4333 - accuracy: 0.8164 - binary_crossentropy: 0.4333 - val_loss: 0.3234 - val_accuracy: 0.8825 - val_binary_crossentropy: 0.3234\n",
            "Epoch 3/20\n",
            "49/49 [==============================] - 2s 45ms/step - loss: 0.3363 - accuracy: 0.8738 - binary_crossentropy: 0.3363 - val_loss: 0.2843 - val_accuracy: 0.8897 - val_binary_crossentropy: 0.2843\n",
            "Epoch 4/20\n",
            "49/49 [==============================] - 2s 49ms/step - loss: 0.2787 - accuracy: 0.8994 - binary_crossentropy: 0.2787 - val_loss: 0.2733 - val_accuracy: 0.8907 - val_binary_crossentropy: 0.2733\n",
            "Epoch 5/20\n",
            "49/49 [==============================] - 3s 58ms/step - loss: 0.2453 - accuracy: 0.9179 - binary_crossentropy: 0.2453 - val_loss: 0.2770 - val_accuracy: 0.8886 - val_binary_crossentropy: 0.2770\n",
            "Epoch 6/20\n",
            "49/49 [==============================] - 2s 44ms/step - loss: 0.2086 - accuracy: 0.9314 - binary_crossentropy: 0.2086 - val_loss: 0.2902 - val_accuracy: 0.8868 - val_binary_crossentropy: 0.2902\n",
            "Epoch 7/20\n",
            "49/49 [==============================] - 2s 43ms/step - loss: 0.1880 - accuracy: 0.9390 - binary_crossentropy: 0.1880 - val_loss: 0.2999 - val_accuracy: 0.8860 - val_binary_crossentropy: 0.2999\n",
            "Epoch 8/20\n",
            "49/49 [==============================] - 2s 43ms/step - loss: 0.1672 - accuracy: 0.9446 - binary_crossentropy: 0.1672 - val_loss: 0.3197 - val_accuracy: 0.8847 - val_binary_crossentropy: 0.3197\n",
            "Epoch 9/20\n",
            "49/49 [==============================] - 2s 44ms/step - loss: 0.1519 - accuracy: 0.9509 - binary_crossentropy: 0.1519 - val_loss: 0.3544 - val_accuracy: 0.8814 - val_binary_crossentropy: 0.3544\n",
            "Epoch 10/20\n",
            "49/49 [==============================] - 2s 43ms/step - loss: 0.1369 - accuracy: 0.9561 - binary_crossentropy: 0.1369 - val_loss: 0.3712 - val_accuracy: 0.8807 - val_binary_crossentropy: 0.3712\n",
            "Epoch 11/20\n",
            "49/49 [==============================] - 2s 44ms/step - loss: 0.1272 - accuracy: 0.9576 - binary_crossentropy: 0.1272 - val_loss: 0.3857 - val_accuracy: 0.8803 - val_binary_crossentropy: 0.3857\n",
            "Epoch 12/20\n",
            "49/49 [==============================] - 2s 44ms/step - loss: 0.1152 - accuracy: 0.9628 - binary_crossentropy: 0.1152 - val_loss: 0.4026 - val_accuracy: 0.8811 - val_binary_crossentropy: 0.4026\n",
            "Epoch 13/20\n",
            "49/49 [==============================] - 2s 44ms/step - loss: 0.1046 - accuracy: 0.9634 - binary_crossentropy: 0.1046 - val_loss: 0.4105 - val_accuracy: 0.8802 - val_binary_crossentropy: 0.4105\n",
            "Epoch 14/20\n",
            "49/49 [==============================] - 2s 43ms/step - loss: 0.0958 - accuracy: 0.9680 - binary_crossentropy: 0.0958 - val_loss: 0.4412 - val_accuracy: 0.8791 - val_binary_crossentropy: 0.4412\n",
            "Epoch 15/20\n",
            "49/49 [==============================] - 2s 43ms/step - loss: 0.0886 - accuracy: 0.9685 - binary_crossentropy: 0.0886 - val_loss: 0.4546 - val_accuracy: 0.8768 - val_binary_crossentropy: 0.4546\n",
            "Epoch 16/20\n",
            "49/49 [==============================] - 2s 44ms/step - loss: 0.0814 - accuracy: 0.9716 - binary_crossentropy: 0.0814 - val_loss: 0.4924 - val_accuracy: 0.8780 - val_binary_crossentropy: 0.4924\n",
            "Epoch 17/20\n",
            "49/49 [==============================] - 2s 44ms/step - loss: 0.0785 - accuracy: 0.9700 - binary_crossentropy: 0.0785 - val_loss: 0.5109 - val_accuracy: 0.8764 - val_binary_crossentropy: 0.5109\n",
            "Epoch 18/20\n",
            "49/49 [==============================] - 2s 43ms/step - loss: 0.0766 - accuracy: 0.9719 - binary_crossentropy: 0.0766 - val_loss: 0.5330 - val_accuracy: 0.8770 - val_binary_crossentropy: 0.5330\n",
            "Epoch 19/20\n",
            "49/49 [==============================] - 2s 43ms/step - loss: 0.0724 - accuracy: 0.9725 - binary_crossentropy: 0.0724 - val_loss: 0.5414 - val_accuracy: 0.8762 - val_binary_crossentropy: 0.5414\n",
            "Epoch 20/20\n",
            "49/49 [==============================] - 2s 44ms/step - loss: 0.0678 - accuracy: 0.9742 - binary_crossentropy: 0.0678 - val_loss: 0.5704 - val_accuracy: 0.8753 - val_binary_crossentropy: 0.5704\n"
          ]
        }
      ]
    },
    {
      "cell_type": "code",
      "source": [
        "fig = go.Figure()\n",
        "for name, history in zip(['baseline', 'dropout'], [baseline_history, dropout_history]):\n",
        "    hist = pd.DataFrame(history.history)\n",
        "    hist['epoch'] = history.epoch\n",
        "    fig.add_trace(go.Scatter(x=hist['epoch'], y=hist['binary_crossentropy'], name=name + '_binary_crossentropy', mode='lines+markers'))\n",
        "    fig.add_trace(go.Scatter(x=hist['epoch'], y=hist['val_binary_crossentropy'], name=name + '_val_binary_crossentropy', mode='lines+markers'))\n",
        "    fig.update_layout(xaxis_title='Epoki', yaxis_title='binary_crossentropy')\n",
        "fig.show()"
      ],
      "metadata": {
        "colab": {
          "base_uri": "https://localhost:8080/",
          "height": 542
        },
        "id": "T2zgOEHPbdsc",
        "outputId": "30d4f165-2e2f-480e-c6fb-eb519dda1fd7"
      },
      "execution_count": 15,
      "outputs": [
        {
          "output_type": "display_data",
          "data": {
            "text/html": [
              "<html>\n",
              "<head><meta charset=\"utf-8\" /></head>\n",
              "<body>\n",
              "    <div>            <script src=\"https://cdnjs.cloudflare.com/ajax/libs/mathjax/2.7.5/MathJax.js?config=TeX-AMS-MML_SVG\"></script><script type=\"text/javascript\">if (window.MathJax) {MathJax.Hub.Config({SVG: {font: \"STIX-Web\"}});}</script>                <script type=\"text/javascript\">window.PlotlyConfig = {MathJaxConfig: 'local'};</script>\n",
              "        <script src=\"https://cdn.plot.ly/plotly-2.8.3.min.js\"></script>                <div id=\"b16973ed-40c3-4871-9ce8-7768defc8282\" class=\"plotly-graph-div\" style=\"height:525px; width:100%;\"></div>            <script type=\"text/javascript\">                                    window.PLOTLYENV=window.PLOTLYENV || {};                                    if (document.getElementById(\"b16973ed-40c3-4871-9ce8-7768defc8282\")) {                    Plotly.newPlot(                        \"b16973ed-40c3-4871-9ce8-7768defc8282\",                        [{\"mode\":\"lines+markers\",\"name\":\"baseline_binary_crossentropy\",\"x\":[0,1,2,3,4,5,6,7,8,9,10,11,12,13,14,15,16,17,18,19],\"y\":[0.4909190237522125,0.25986477732658386,0.18816912174224854,0.1491256207227707,0.12032230198383331,0.09637155383825302,0.0750940591096878,0.05613930523395538,0.04043518006801605,0.028114808723330498,0.019744928926229477,0.01395440474152565,0.010134473443031311,0.007616695016622543,0.005822382401674986,0.004658694379031658,0.0037438981235027313,0.003088544588536024,0.0026125379372388124,0.00221974216401577],\"type\":\"scatter\"},{\"mode\":\"lines+markers\",\"name\":\"baseline_val_binary_crossentropy\",\"x\":[0,1,2,3,4,5,6,7,8,9,10,11,12,13,14,15,16,17,18,19],\"y\":[0.3503269851207733,0.28418320417404175,0.28596407175064087,0.3036312162876129,0.33010393381118774,0.36464059352874756,0.39557912945747375,0.43774616718292236,0.47914713621139526,0.516401469707489,0.5502673983573914,0.584658682346344,0.6190156936645508,0.6461417078971863,0.6707329154014587,0.6988406181335449,0.7198507785797119,0.7391708493232727,0.7599019408226013,0.7772899866104126],\"type\":\"scatter\"},{\"mode\":\"lines+markers\",\"name\":\"dropout_binary_crossentropy\",\"x\":[0,1,2,3,4,5,6,7,8,9,10,11,12,13,14,15,16,17,18,19],\"y\":[0.6125229001045227,0.43326395750045776,0.3362521827220917,0.2786741852760315,0.245304673910141,0.20855578780174255,0.18799002468585968,0.16719599068164825,0.15193963050842285,0.13694575428962708,0.12716171145439148,0.11524747312068939,0.10455385595560074,0.09576097875833511,0.08857402950525284,0.08137783408164978,0.07854296267032623,0.07659824937582016,0.07241207361221313,0.06776309758424759],\"type\":\"scatter\"},{\"mode\":\"lines+markers\",\"name\":\"dropout_val_binary_crossentropy\",\"x\":[0,1,2,3,4,5,6,7,8,9,10,11,12,13,14,15,16,17,18,19],\"y\":[0.45277702808380127,0.3233766555786133,0.2843141257762909,0.2733282744884491,0.2769516110420227,0.2902306914329529,0.2999390959739685,0.3196943998336792,0.3544221520423889,0.3711800277233124,0.38568565249443054,0.4025965929031372,0.4105173945426941,0.4412001669406891,0.4545755386352539,0.49241772294044495,0.5108686089515686,0.5329819917678833,0.5413556098937988,0.5704445838928223],\"type\":\"scatter\"}],                        {\"template\":{\"data\":{\"bar\":[{\"error_x\":{\"color\":\"#2a3f5f\"},\"error_y\":{\"color\":\"#2a3f5f\"},\"marker\":{\"line\":{\"color\":\"#E5ECF6\",\"width\":0.5},\"pattern\":{\"fillmode\":\"overlay\",\"size\":10,\"solidity\":0.2}},\"type\":\"bar\"}],\"barpolar\":[{\"marker\":{\"line\":{\"color\":\"#E5ECF6\",\"width\":0.5},\"pattern\":{\"fillmode\":\"overlay\",\"size\":10,\"solidity\":0.2}},\"type\":\"barpolar\"}],\"carpet\":[{\"aaxis\":{\"endlinecolor\":\"#2a3f5f\",\"gridcolor\":\"white\",\"linecolor\":\"white\",\"minorgridcolor\":\"white\",\"startlinecolor\":\"#2a3f5f\"},\"baxis\":{\"endlinecolor\":\"#2a3f5f\",\"gridcolor\":\"white\",\"linecolor\":\"white\",\"minorgridcolor\":\"white\",\"startlinecolor\":\"#2a3f5f\"},\"type\":\"carpet\"}],\"choropleth\":[{\"colorbar\":{\"outlinewidth\":0,\"ticks\":\"\"},\"type\":\"choropleth\"}],\"contour\":[{\"colorbar\":{\"outlinewidth\":0,\"ticks\":\"\"},\"colorscale\":[[0.0,\"#0d0887\"],[0.1111111111111111,\"#46039f\"],[0.2222222222222222,\"#7201a8\"],[0.3333333333333333,\"#9c179e\"],[0.4444444444444444,\"#bd3786\"],[0.5555555555555556,\"#d8576b\"],[0.6666666666666666,\"#ed7953\"],[0.7777777777777778,\"#fb9f3a\"],[0.8888888888888888,\"#fdca26\"],[1.0,\"#f0f921\"]],\"type\":\"contour\"}],\"contourcarpet\":[{\"colorbar\":{\"outlinewidth\":0,\"ticks\":\"\"},\"type\":\"contourcarpet\"}],\"heatmap\":[{\"colorbar\":{\"outlinewidth\":0,\"ticks\":\"\"},\"colorscale\":[[0.0,\"#0d0887\"],[0.1111111111111111,\"#46039f\"],[0.2222222222222222,\"#7201a8\"],[0.3333333333333333,\"#9c179e\"],[0.4444444444444444,\"#bd3786\"],[0.5555555555555556,\"#d8576b\"],[0.6666666666666666,\"#ed7953\"],[0.7777777777777778,\"#fb9f3a\"],[0.8888888888888888,\"#fdca26\"],[1.0,\"#f0f921\"]],\"type\":\"heatmap\"}],\"heatmapgl\":[{\"colorbar\":{\"outlinewidth\":0,\"ticks\":\"\"},\"colorscale\":[[0.0,\"#0d0887\"],[0.1111111111111111,\"#46039f\"],[0.2222222222222222,\"#7201a8\"],[0.3333333333333333,\"#9c179e\"],[0.4444444444444444,\"#bd3786\"],[0.5555555555555556,\"#d8576b\"],[0.6666666666666666,\"#ed7953\"],[0.7777777777777778,\"#fb9f3a\"],[0.8888888888888888,\"#fdca26\"],[1.0,\"#f0f921\"]],\"type\":\"heatmapgl\"}],\"histogram\":[{\"marker\":{\"pattern\":{\"fillmode\":\"overlay\",\"size\":10,\"solidity\":0.2}},\"type\":\"histogram\"}],\"histogram2d\":[{\"colorbar\":{\"outlinewidth\":0,\"ticks\":\"\"},\"colorscale\":[[0.0,\"#0d0887\"],[0.1111111111111111,\"#46039f\"],[0.2222222222222222,\"#7201a8\"],[0.3333333333333333,\"#9c179e\"],[0.4444444444444444,\"#bd3786\"],[0.5555555555555556,\"#d8576b\"],[0.6666666666666666,\"#ed7953\"],[0.7777777777777778,\"#fb9f3a\"],[0.8888888888888888,\"#fdca26\"],[1.0,\"#f0f921\"]],\"type\":\"histogram2d\"}],\"histogram2dcontour\":[{\"colorbar\":{\"outlinewidth\":0,\"ticks\":\"\"},\"colorscale\":[[0.0,\"#0d0887\"],[0.1111111111111111,\"#46039f\"],[0.2222222222222222,\"#7201a8\"],[0.3333333333333333,\"#9c179e\"],[0.4444444444444444,\"#bd3786\"],[0.5555555555555556,\"#d8576b\"],[0.6666666666666666,\"#ed7953\"],[0.7777777777777778,\"#fb9f3a\"],[0.8888888888888888,\"#fdca26\"],[1.0,\"#f0f921\"]],\"type\":\"histogram2dcontour\"}],\"mesh3d\":[{\"colorbar\":{\"outlinewidth\":0,\"ticks\":\"\"},\"type\":\"mesh3d\"}],\"parcoords\":[{\"line\":{\"colorbar\":{\"outlinewidth\":0,\"ticks\":\"\"}},\"type\":\"parcoords\"}],\"pie\":[{\"automargin\":true,\"type\":\"pie\"}],\"scatter\":[{\"marker\":{\"colorbar\":{\"outlinewidth\":0,\"ticks\":\"\"}},\"type\":\"scatter\"}],\"scatter3d\":[{\"line\":{\"colorbar\":{\"outlinewidth\":0,\"ticks\":\"\"}},\"marker\":{\"colorbar\":{\"outlinewidth\":0,\"ticks\":\"\"}},\"type\":\"scatter3d\"}],\"scattercarpet\":[{\"marker\":{\"colorbar\":{\"outlinewidth\":0,\"ticks\":\"\"}},\"type\":\"scattercarpet\"}],\"scattergeo\":[{\"marker\":{\"colorbar\":{\"outlinewidth\":0,\"ticks\":\"\"}},\"type\":\"scattergeo\"}],\"scattergl\":[{\"marker\":{\"colorbar\":{\"outlinewidth\":0,\"ticks\":\"\"}},\"type\":\"scattergl\"}],\"scattermapbox\":[{\"marker\":{\"colorbar\":{\"outlinewidth\":0,\"ticks\":\"\"}},\"type\":\"scattermapbox\"}],\"scatterpolar\":[{\"marker\":{\"colorbar\":{\"outlinewidth\":0,\"ticks\":\"\"}},\"type\":\"scatterpolar\"}],\"scatterpolargl\":[{\"marker\":{\"colorbar\":{\"outlinewidth\":0,\"ticks\":\"\"}},\"type\":\"scatterpolargl\"}],\"scatterternary\":[{\"marker\":{\"colorbar\":{\"outlinewidth\":0,\"ticks\":\"\"}},\"type\":\"scatterternary\"}],\"surface\":[{\"colorbar\":{\"outlinewidth\":0,\"ticks\":\"\"},\"colorscale\":[[0.0,\"#0d0887\"],[0.1111111111111111,\"#46039f\"],[0.2222222222222222,\"#7201a8\"],[0.3333333333333333,\"#9c179e\"],[0.4444444444444444,\"#bd3786\"],[0.5555555555555556,\"#d8576b\"],[0.6666666666666666,\"#ed7953\"],[0.7777777777777778,\"#fb9f3a\"],[0.8888888888888888,\"#fdca26\"],[1.0,\"#f0f921\"]],\"type\":\"surface\"}],\"table\":[{\"cells\":{\"fill\":{\"color\":\"#EBF0F8\"},\"line\":{\"color\":\"white\"}},\"header\":{\"fill\":{\"color\":\"#C8D4E3\"},\"line\":{\"color\":\"white\"}},\"type\":\"table\"}]},\"layout\":{\"annotationdefaults\":{\"arrowcolor\":\"#2a3f5f\",\"arrowhead\":0,\"arrowwidth\":1},\"autotypenumbers\":\"strict\",\"coloraxis\":{\"colorbar\":{\"outlinewidth\":0,\"ticks\":\"\"}},\"colorscale\":{\"diverging\":[[0,\"#8e0152\"],[0.1,\"#c51b7d\"],[0.2,\"#de77ae\"],[0.3,\"#f1b6da\"],[0.4,\"#fde0ef\"],[0.5,\"#f7f7f7\"],[0.6,\"#e6f5d0\"],[0.7,\"#b8e186\"],[0.8,\"#7fbc41\"],[0.9,\"#4d9221\"],[1,\"#276419\"]],\"sequential\":[[0.0,\"#0d0887\"],[0.1111111111111111,\"#46039f\"],[0.2222222222222222,\"#7201a8\"],[0.3333333333333333,\"#9c179e\"],[0.4444444444444444,\"#bd3786\"],[0.5555555555555556,\"#d8576b\"],[0.6666666666666666,\"#ed7953\"],[0.7777777777777778,\"#fb9f3a\"],[0.8888888888888888,\"#fdca26\"],[1.0,\"#f0f921\"]],\"sequentialminus\":[[0.0,\"#0d0887\"],[0.1111111111111111,\"#46039f\"],[0.2222222222222222,\"#7201a8\"],[0.3333333333333333,\"#9c179e\"],[0.4444444444444444,\"#bd3786\"],[0.5555555555555556,\"#d8576b\"],[0.6666666666666666,\"#ed7953\"],[0.7777777777777778,\"#fb9f3a\"],[0.8888888888888888,\"#fdca26\"],[1.0,\"#f0f921\"]]},\"colorway\":[\"#636efa\",\"#EF553B\",\"#00cc96\",\"#ab63fa\",\"#FFA15A\",\"#19d3f3\",\"#FF6692\",\"#B6E880\",\"#FF97FF\",\"#FECB52\"],\"font\":{\"color\":\"#2a3f5f\"},\"geo\":{\"bgcolor\":\"white\",\"lakecolor\":\"white\",\"landcolor\":\"#E5ECF6\",\"showlakes\":true,\"showland\":true,\"subunitcolor\":\"white\"},\"hoverlabel\":{\"align\":\"left\"},\"hovermode\":\"closest\",\"mapbox\":{\"style\":\"light\"},\"paper_bgcolor\":\"white\",\"plot_bgcolor\":\"#E5ECF6\",\"polar\":{\"angularaxis\":{\"gridcolor\":\"white\",\"linecolor\":\"white\",\"ticks\":\"\"},\"bgcolor\":\"#E5ECF6\",\"radialaxis\":{\"gridcolor\":\"white\",\"linecolor\":\"white\",\"ticks\":\"\"}},\"scene\":{\"xaxis\":{\"backgroundcolor\":\"#E5ECF6\",\"gridcolor\":\"white\",\"gridwidth\":2,\"linecolor\":\"white\",\"showbackground\":true,\"ticks\":\"\",\"zerolinecolor\":\"white\"},\"yaxis\":{\"backgroundcolor\":\"#E5ECF6\",\"gridcolor\":\"white\",\"gridwidth\":2,\"linecolor\":\"white\",\"showbackground\":true,\"ticks\":\"\",\"zerolinecolor\":\"white\"},\"zaxis\":{\"backgroundcolor\":\"#E5ECF6\",\"gridcolor\":\"white\",\"gridwidth\":2,\"linecolor\":\"white\",\"showbackground\":true,\"ticks\":\"\",\"zerolinecolor\":\"white\"}},\"shapedefaults\":{\"line\":{\"color\":\"#2a3f5f\"}},\"ternary\":{\"aaxis\":{\"gridcolor\":\"white\",\"linecolor\":\"white\",\"ticks\":\"\"},\"baxis\":{\"gridcolor\":\"white\",\"linecolor\":\"white\",\"ticks\":\"\"},\"bgcolor\":\"#E5ECF6\",\"caxis\":{\"gridcolor\":\"white\",\"linecolor\":\"white\",\"ticks\":\"\"}},\"title\":{\"x\":0.05},\"xaxis\":{\"automargin\":true,\"gridcolor\":\"white\",\"linecolor\":\"white\",\"ticks\":\"\",\"title\":{\"standoff\":15},\"zerolinecolor\":\"white\",\"zerolinewidth\":2},\"yaxis\":{\"automargin\":true,\"gridcolor\":\"white\",\"linecolor\":\"white\",\"ticks\":\"\",\"title\":{\"standoff\":15},\"zerolinecolor\":\"white\",\"zerolinewidth\":2}}},\"xaxis\":{\"title\":{\"text\":\"Epoki\"}},\"yaxis\":{\"title\":{\"text\":\"binary_crossentropy\"}}},                        {\"responsive\": true}                    ).then(function(){\n",
              "                            \n",
              "var gd = document.getElementById('b16973ed-40c3-4871-9ce8-7768defc8282');\n",
              "var x = new MutationObserver(function (mutations, observer) {{\n",
              "        var display = window.getComputedStyle(gd).display;\n",
              "        if (!display || display === 'none') {{\n",
              "            console.log([gd, 'removed!']);\n",
              "            Plotly.purge(gd);\n",
              "            observer.disconnect();\n",
              "        }}\n",
              "}});\n",
              "\n",
              "// Listen for the removal of the full notebook cells\n",
              "var notebookContainer = gd.closest('#notebook-container');\n",
              "if (notebookContainer) {{\n",
              "    x.observe(notebookContainer, {childList: true});\n",
              "}}\n",
              "\n",
              "// Listen for the clearing of the current output cell\n",
              "var outputEl = gd.closest('.output');\n",
              "if (outputEl) {{\n",
              "    x.observe(outputEl, {childList: true});\n",
              "}}\n",
              "\n",
              "                        })                };                            </script>        </div>\n",
              "</body>\n",
              "</html>"
            ]
          },
          "metadata": {}
        }
      ]
    },
    {
      "cell_type": "code",
      "source": [
        "# dropout + regularizer\n",
        "from tensorflow.keras.regularizers import l2\n",
        "from tensorflow.keras.layers import Dropout\n",
        "\n",
        "dr_model = Sequential()\n",
        "dr_model.add(Dense(16, kernel_regularizer=l2(0.001), activation='relu', input_shape=(NUM_WORDS,)))\n",
        "dr_model.add(Dropout(0.2))\n",
        "dr_model.add(Dense(16, kernel_regularizer=l2(0.01), activation='relu'))\n",
        "dr_model.add(Dropout(0.2))\n",
        "dr_model.add(Dense(1, activation='sigmoid'))\n",
        "\n",
        "dr_model.compile(optimizer='adam',\n",
        "                 loss='binary_crossentropy',\n",
        "                 metrics=['accuracy', 'binary_crossentropy'])\n",
        "\n",
        "dr_model.summary()"
      ],
      "metadata": {
        "colab": {
          "base_uri": "https://localhost:8080/"
        },
        "id": "zdwgNz9pbgix",
        "outputId": "aa13232a-0121-46e3-943a-ec590b8d49d7"
      },
      "execution_count": 11,
      "outputs": [
        {
          "output_type": "stream",
          "name": "stdout",
          "text": [
            "Model: \"sequential_3\"\n",
            "_________________________________________________________________\n",
            " Layer (type)                Output Shape              Param #   \n",
            "=================================================================\n",
            " dense_4 (Dense)             (None, 16)                160016    \n",
            "                                                                 \n",
            " dropout (Dropout)           (None, 16)                0         \n",
            "                                                                 \n",
            " dense_5 (Dense)             (None, 16)                272       \n",
            "                                                                 \n",
            " dropout_1 (Dropout)         (None, 16)                0         \n",
            "                                                                 \n",
            " dense_6 (Dense)             (None, 1)                 17        \n",
            "                                                                 \n",
            "=================================================================\n",
            "Total params: 160,305\n",
            "Trainable params: 160,305\n",
            "Non-trainable params: 0\n",
            "_________________________________________________________________\n"
          ]
        }
      ]
    },
    {
      "cell_type": "code",
      "source": [
        "dr_history = dr_model.fit(train_data, train_labels, epochs=20, batch_size=512, validation_data=(test_data, test_labels))"
      ],
      "metadata": {
        "colab": {
          "base_uri": "https://localhost:8080/"
        },
        "id": "eT5E-PGocfEs",
        "outputId": "b1667b1f-29f3-4e59-f89f-68cbf2fe3547"
      },
      "execution_count": 12,
      "outputs": [
        {
          "output_type": "stream",
          "name": "stdout",
          "text": [
            "Epoch 1/20\n",
            "49/49 [==============================] - 4s 60ms/step - loss: 0.7132 - accuracy: 0.7426 - binary_crossentropy: 0.5550 - val_loss: 0.5448 - val_accuracy: 0.8685 - val_binary_crossentropy: 0.4023\n",
            "Epoch 2/20\n",
            "49/49 [==============================] - 2s 43ms/step - loss: 0.4991 - accuracy: 0.8643 - binary_crossentropy: 0.3623 - val_loss: 0.4472 - val_accuracy: 0.8824 - val_binary_crossentropy: 0.3161\n",
            "Epoch 3/20\n",
            "49/49 [==============================] - 2s 43ms/step - loss: 0.4167 - accuracy: 0.8985 - binary_crossentropy: 0.2901 - val_loss: 0.4166 - val_accuracy: 0.8842 - val_binary_crossentropy: 0.2953\n",
            "Epoch 4/20\n",
            "49/49 [==============================] - 2s 44ms/step - loss: 0.3670 - accuracy: 0.9135 - binary_crossentropy: 0.2492 - val_loss: 0.3958 - val_accuracy: 0.8864 - val_binary_crossentropy: 0.2819\n",
            "Epoch 5/20\n",
            "49/49 [==============================] - 2s 43ms/step - loss: 0.3301 - accuracy: 0.9250 - binary_crossentropy: 0.2195 - val_loss: 0.3884 - val_accuracy: 0.8847 - val_binary_crossentropy: 0.2813\n",
            "Epoch 6/20\n",
            "49/49 [==============================] - 2s 44ms/step - loss: 0.3040 - accuracy: 0.9318 - binary_crossentropy: 0.1990 - val_loss: 0.3864 - val_accuracy: 0.8837 - val_binary_crossentropy: 0.2843\n",
            "Epoch 7/20\n",
            "49/49 [==============================] - 3s 54ms/step - loss: 0.2845 - accuracy: 0.9379 - binary_crossentropy: 0.1841 - val_loss: 0.3881 - val_accuracy: 0.8805 - val_binary_crossentropy: 0.2899\n",
            "Epoch 8/20\n",
            "49/49 [==============================] - 2s 43ms/step - loss: 0.2676 - accuracy: 0.9418 - binary_crossentropy: 0.1704 - val_loss: 0.3902 - val_accuracy: 0.8802 - val_binary_crossentropy: 0.2942\n",
            "Epoch 9/20\n",
            "49/49 [==============================] - 2s 43ms/step - loss: 0.2544 - accuracy: 0.9473 - binary_crossentropy: 0.1588 - val_loss: 0.3932 - val_accuracy: 0.8800 - val_binary_crossentropy: 0.2986\n",
            "Epoch 10/20\n",
            "49/49 [==============================] - 2s 44ms/step - loss: 0.2473 - accuracy: 0.9495 - binary_crossentropy: 0.1532 - val_loss: 0.3947 - val_accuracy: 0.8790 - val_binary_crossentropy: 0.3011\n",
            "Epoch 11/20\n",
            "49/49 [==============================] - 3s 54ms/step - loss: 0.2407 - accuracy: 0.9511 - binary_crossentropy: 0.1469 - val_loss: 0.3986 - val_accuracy: 0.8768 - val_binary_crossentropy: 0.3051\n",
            "Epoch 12/20\n",
            "49/49 [==============================] - 4s 73ms/step - loss: 0.2315 - accuracy: 0.9557 - binary_crossentropy: 0.1379 - val_loss: 0.4068 - val_accuracy: 0.8771 - val_binary_crossentropy: 0.3135\n",
            "Epoch 13/20\n",
            "49/49 [==============================] - 3s 66ms/step - loss: 0.2266 - accuracy: 0.9571 - binary_crossentropy: 0.1329 - val_loss: 0.4093 - val_accuracy: 0.8761 - val_binary_crossentropy: 0.3157\n",
            "Epoch 14/20\n",
            "49/49 [==============================] - 2s 42ms/step - loss: 0.2197 - accuracy: 0.9614 - binary_crossentropy: 0.1262 - val_loss: 0.4089 - val_accuracy: 0.8767 - val_binary_crossentropy: 0.3155\n",
            "Epoch 15/20\n",
            "49/49 [==============================] - 2s 43ms/step - loss: 0.2137 - accuracy: 0.9619 - binary_crossentropy: 0.1203 - val_loss: 0.4121 - val_accuracy: 0.8759 - val_binary_crossentropy: 0.3187\n",
            "Epoch 16/20\n",
            "49/49 [==============================] - 2s 43ms/step - loss: 0.2102 - accuracy: 0.9624 - binary_crossentropy: 0.1164 - val_loss: 0.4185 - val_accuracy: 0.8740 - val_binary_crossentropy: 0.3247\n",
            "Epoch 17/20\n",
            "49/49 [==============================] - 2s 42ms/step - loss: 0.2068 - accuracy: 0.9650 - binary_crossentropy: 0.1128 - val_loss: 0.4145 - val_accuracy: 0.8756 - val_binary_crossentropy: 0.3207\n",
            "Epoch 18/20\n",
            "49/49 [==============================] - 2s 50ms/step - loss: 0.2042 - accuracy: 0.9668 - binary_crossentropy: 0.1102 - val_loss: 0.4233 - val_accuracy: 0.8749 - val_binary_crossentropy: 0.3290\n",
            "Epoch 19/20\n",
            "49/49 [==============================] - 2s 44ms/step - loss: 0.2018 - accuracy: 0.9658 - binary_crossentropy: 0.1076 - val_loss: 0.4247 - val_accuracy: 0.8752 - val_binary_crossentropy: 0.3305\n",
            "Epoch 20/20\n",
            "49/49 [==============================] - 2s 42ms/step - loss: 0.1981 - accuracy: 0.9677 - binary_crossentropy: 0.1037 - val_loss: 0.4265 - val_accuracy: 0.8740 - val_binary_crossentropy: 0.3321\n"
          ]
        }
      ]
    },
    {
      "cell_type": "code",
      "source": [
        "import plotly.graph_objects as go\n",
        "\n",
        "fig = go.Figure()\n",
        "for name, history in zip(['baseline', 'dr'], [baseline_history, dr_history]):\n",
        "    hist = pd.DataFrame(history.history)\n",
        "    hist['epoch'] = history.epoch\n",
        "    fig.add_trace(go.Scatter(x=hist['epoch'], y=hist['binary_crossentropy'], name=name + '_binary_crossentropy', mode='lines+markers'))\n",
        "    fig.add_trace(go.Scatter(x=hist['epoch'], y=hist['val_binary_crossentropy'], name=name + '_val_binary_crossentropy', mode='lines+markers'))\n",
        "    fig.update_layout(xaxis_title='Epoki', yaxis_title='binary_crossentropy')\n",
        "fig.show()"
      ],
      "metadata": {
        "colab": {
          "base_uri": "https://localhost:8080/",
          "height": 542
        },
        "id": "fyCtc5PJcpPD",
        "outputId": "b4cf02f8-576d-446a-8939-85864e0fa3c4"
      },
      "execution_count": 15,
      "outputs": [
        {
          "output_type": "display_data",
          "data": {
            "text/html": [
              "<html>\n",
              "<head><meta charset=\"utf-8\" /></head>\n",
              "<body>\n",
              "    <div>            <script src=\"https://cdnjs.cloudflare.com/ajax/libs/mathjax/2.7.5/MathJax.js?config=TeX-AMS-MML_SVG\"></script><script type=\"text/javascript\">if (window.MathJax) {MathJax.Hub.Config({SVG: {font: \"STIX-Web\"}});}</script>                <script type=\"text/javascript\">window.PlotlyConfig = {MathJaxConfig: 'local'};</script>\n",
              "        <script src=\"https://cdn.plot.ly/plotly-2.8.3.min.js\"></script>                <div id=\"efa05836-7ab4-4054-af6e-9643914dcc66\" class=\"plotly-graph-div\" style=\"height:525px; width:100%;\"></div>            <script type=\"text/javascript\">                                    window.PLOTLYENV=window.PLOTLYENV || {};                                    if (document.getElementById(\"efa05836-7ab4-4054-af6e-9643914dcc66\")) {                    Plotly.newPlot(                        \"efa05836-7ab4-4054-af6e-9643914dcc66\",                        [{\"mode\":\"lines+markers\",\"name\":\"baseline_binary_crossentropy\",\"x\":[0,1,2,3,4,5,6,7,8,9,10,11,12,13,14,15,16,17,18,19],\"y\":[0.5203713774681091,0.26521068811416626,0.1884806603193283,0.14971838891506195,0.12386411428451538,0.10261397808790207,0.08620612323284149,0.07158436626195908,0.05891210958361626,0.04857015982270241,0.03962118551135063,0.032036300748586655,0.025726614519953728,0.0206745658069849,0.01691623218357563,0.013828269205987453,0.011326138861477375,0.009358881041407585,0.0077071948908269405,0.006237613037228584],\"type\":\"scatter\"},{\"mode\":\"lines+markers\",\"name\":\"baseline_val_binary_crossentropy\",\"x\":[0,1,2,3,4,5,6,7,8,9,10,11,12,13,14,15,16,17,18,19],\"y\":[0.36090216040611267,0.29274001717567444,0.2884793281555176,0.30523326992988586,0.33750784397125244,0.3636389970779419,0.3978807032108307,0.4391917288303375,0.48657071590423584,0.5166074633598328,0.5603966116905212,0.6035557985305786,0.6595163941383362,0.7053298950195312,0.7316602468490601,0.7601641416549683,0.8098059296607971,0.838982880115509,0.8811120986938477,0.9222403764724731],\"type\":\"scatter\"},{\"mode\":\"lines+markers\",\"name\":\"dr_binary_crossentropy\",\"x\":[0,1,2,3,4,5,6,7,8,9,10,11,12,13,14,15,16,17,18,19],\"y\":[0.5549623966217041,0.36232542991638184,0.2900868058204651,0.24915945529937744,0.21951046586036682,0.1990288645029068,0.18414494395256042,0.17043562233448029,0.1588122546672821,0.15321415662765503,0.14692477881908417,0.13787971436977386,0.13286183774471283,0.12616826593875885,0.12031611055135727,0.11643989384174347,0.11277849972248077,0.11016541719436646,0.1076100766658783,0.10370989888906479],\"type\":\"scatter\"},{\"mode\":\"lines+markers\",\"name\":\"dr_val_binary_crossentropy\",\"x\":[0,1,2,3,4,5,6,7,8,9,10,11,12,13,14,15,16,17,18,19],\"y\":[0.40230071544647217,0.3160537779331207,0.2952846586704254,0.28194984793663025,0.28125277161598206,0.2843411862850189,0.28990328311920166,0.2942073345184326,0.2985817492008209,0.30110469460487366,0.30508774518966675,0.313482403755188,0.3157453238964081,0.3155132532119751,0.318721204996109,0.32469120621681213,0.3206501007080078,0.3289990723133087,0.33046582341194153,0.3320733606815338],\"type\":\"scatter\"}],                        {\"template\":{\"data\":{\"bar\":[{\"error_x\":{\"color\":\"#2a3f5f\"},\"error_y\":{\"color\":\"#2a3f5f\"},\"marker\":{\"line\":{\"color\":\"#E5ECF6\",\"width\":0.5},\"pattern\":{\"fillmode\":\"overlay\",\"size\":10,\"solidity\":0.2}},\"type\":\"bar\"}],\"barpolar\":[{\"marker\":{\"line\":{\"color\":\"#E5ECF6\",\"width\":0.5},\"pattern\":{\"fillmode\":\"overlay\",\"size\":10,\"solidity\":0.2}},\"type\":\"barpolar\"}],\"carpet\":[{\"aaxis\":{\"endlinecolor\":\"#2a3f5f\",\"gridcolor\":\"white\",\"linecolor\":\"white\",\"minorgridcolor\":\"white\",\"startlinecolor\":\"#2a3f5f\"},\"baxis\":{\"endlinecolor\":\"#2a3f5f\",\"gridcolor\":\"white\",\"linecolor\":\"white\",\"minorgridcolor\":\"white\",\"startlinecolor\":\"#2a3f5f\"},\"type\":\"carpet\"}],\"choropleth\":[{\"colorbar\":{\"outlinewidth\":0,\"ticks\":\"\"},\"type\":\"choropleth\"}],\"contour\":[{\"colorbar\":{\"outlinewidth\":0,\"ticks\":\"\"},\"colorscale\":[[0.0,\"#0d0887\"],[0.1111111111111111,\"#46039f\"],[0.2222222222222222,\"#7201a8\"],[0.3333333333333333,\"#9c179e\"],[0.4444444444444444,\"#bd3786\"],[0.5555555555555556,\"#d8576b\"],[0.6666666666666666,\"#ed7953\"],[0.7777777777777778,\"#fb9f3a\"],[0.8888888888888888,\"#fdca26\"],[1.0,\"#f0f921\"]],\"type\":\"contour\"}],\"contourcarpet\":[{\"colorbar\":{\"outlinewidth\":0,\"ticks\":\"\"},\"type\":\"contourcarpet\"}],\"heatmap\":[{\"colorbar\":{\"outlinewidth\":0,\"ticks\":\"\"},\"colorscale\":[[0.0,\"#0d0887\"],[0.1111111111111111,\"#46039f\"],[0.2222222222222222,\"#7201a8\"],[0.3333333333333333,\"#9c179e\"],[0.4444444444444444,\"#bd3786\"],[0.5555555555555556,\"#d8576b\"],[0.6666666666666666,\"#ed7953\"],[0.7777777777777778,\"#fb9f3a\"],[0.8888888888888888,\"#fdca26\"],[1.0,\"#f0f921\"]],\"type\":\"heatmap\"}],\"heatmapgl\":[{\"colorbar\":{\"outlinewidth\":0,\"ticks\":\"\"},\"colorscale\":[[0.0,\"#0d0887\"],[0.1111111111111111,\"#46039f\"],[0.2222222222222222,\"#7201a8\"],[0.3333333333333333,\"#9c179e\"],[0.4444444444444444,\"#bd3786\"],[0.5555555555555556,\"#d8576b\"],[0.6666666666666666,\"#ed7953\"],[0.7777777777777778,\"#fb9f3a\"],[0.8888888888888888,\"#fdca26\"],[1.0,\"#f0f921\"]],\"type\":\"heatmapgl\"}],\"histogram\":[{\"marker\":{\"pattern\":{\"fillmode\":\"overlay\",\"size\":10,\"solidity\":0.2}},\"type\":\"histogram\"}],\"histogram2d\":[{\"colorbar\":{\"outlinewidth\":0,\"ticks\":\"\"},\"colorscale\":[[0.0,\"#0d0887\"],[0.1111111111111111,\"#46039f\"],[0.2222222222222222,\"#7201a8\"],[0.3333333333333333,\"#9c179e\"],[0.4444444444444444,\"#bd3786\"],[0.5555555555555556,\"#d8576b\"],[0.6666666666666666,\"#ed7953\"],[0.7777777777777778,\"#fb9f3a\"],[0.8888888888888888,\"#fdca26\"],[1.0,\"#f0f921\"]],\"type\":\"histogram2d\"}],\"histogram2dcontour\":[{\"colorbar\":{\"outlinewidth\":0,\"ticks\":\"\"},\"colorscale\":[[0.0,\"#0d0887\"],[0.1111111111111111,\"#46039f\"],[0.2222222222222222,\"#7201a8\"],[0.3333333333333333,\"#9c179e\"],[0.4444444444444444,\"#bd3786\"],[0.5555555555555556,\"#d8576b\"],[0.6666666666666666,\"#ed7953\"],[0.7777777777777778,\"#fb9f3a\"],[0.8888888888888888,\"#fdca26\"],[1.0,\"#f0f921\"]],\"type\":\"histogram2dcontour\"}],\"mesh3d\":[{\"colorbar\":{\"outlinewidth\":0,\"ticks\":\"\"},\"type\":\"mesh3d\"}],\"parcoords\":[{\"line\":{\"colorbar\":{\"outlinewidth\":0,\"ticks\":\"\"}},\"type\":\"parcoords\"}],\"pie\":[{\"automargin\":true,\"type\":\"pie\"}],\"scatter\":[{\"marker\":{\"colorbar\":{\"outlinewidth\":0,\"ticks\":\"\"}},\"type\":\"scatter\"}],\"scatter3d\":[{\"line\":{\"colorbar\":{\"outlinewidth\":0,\"ticks\":\"\"}},\"marker\":{\"colorbar\":{\"outlinewidth\":0,\"ticks\":\"\"}},\"type\":\"scatter3d\"}],\"scattercarpet\":[{\"marker\":{\"colorbar\":{\"outlinewidth\":0,\"ticks\":\"\"}},\"type\":\"scattercarpet\"}],\"scattergeo\":[{\"marker\":{\"colorbar\":{\"outlinewidth\":0,\"ticks\":\"\"}},\"type\":\"scattergeo\"}],\"scattergl\":[{\"marker\":{\"colorbar\":{\"outlinewidth\":0,\"ticks\":\"\"}},\"type\":\"scattergl\"}],\"scattermapbox\":[{\"marker\":{\"colorbar\":{\"outlinewidth\":0,\"ticks\":\"\"}},\"type\":\"scattermapbox\"}],\"scatterpolar\":[{\"marker\":{\"colorbar\":{\"outlinewidth\":0,\"ticks\":\"\"}},\"type\":\"scatterpolar\"}],\"scatterpolargl\":[{\"marker\":{\"colorbar\":{\"outlinewidth\":0,\"ticks\":\"\"}},\"type\":\"scatterpolargl\"}],\"scatterternary\":[{\"marker\":{\"colorbar\":{\"outlinewidth\":0,\"ticks\":\"\"}},\"type\":\"scatterternary\"}],\"surface\":[{\"colorbar\":{\"outlinewidth\":0,\"ticks\":\"\"},\"colorscale\":[[0.0,\"#0d0887\"],[0.1111111111111111,\"#46039f\"],[0.2222222222222222,\"#7201a8\"],[0.3333333333333333,\"#9c179e\"],[0.4444444444444444,\"#bd3786\"],[0.5555555555555556,\"#d8576b\"],[0.6666666666666666,\"#ed7953\"],[0.7777777777777778,\"#fb9f3a\"],[0.8888888888888888,\"#fdca26\"],[1.0,\"#f0f921\"]],\"type\":\"surface\"}],\"table\":[{\"cells\":{\"fill\":{\"color\":\"#EBF0F8\"},\"line\":{\"color\":\"white\"}},\"header\":{\"fill\":{\"color\":\"#C8D4E3\"},\"line\":{\"color\":\"white\"}},\"type\":\"table\"}]},\"layout\":{\"annotationdefaults\":{\"arrowcolor\":\"#2a3f5f\",\"arrowhead\":0,\"arrowwidth\":1},\"autotypenumbers\":\"strict\",\"coloraxis\":{\"colorbar\":{\"outlinewidth\":0,\"ticks\":\"\"}},\"colorscale\":{\"diverging\":[[0,\"#8e0152\"],[0.1,\"#c51b7d\"],[0.2,\"#de77ae\"],[0.3,\"#f1b6da\"],[0.4,\"#fde0ef\"],[0.5,\"#f7f7f7\"],[0.6,\"#e6f5d0\"],[0.7,\"#b8e186\"],[0.8,\"#7fbc41\"],[0.9,\"#4d9221\"],[1,\"#276419\"]],\"sequential\":[[0.0,\"#0d0887\"],[0.1111111111111111,\"#46039f\"],[0.2222222222222222,\"#7201a8\"],[0.3333333333333333,\"#9c179e\"],[0.4444444444444444,\"#bd3786\"],[0.5555555555555556,\"#d8576b\"],[0.6666666666666666,\"#ed7953\"],[0.7777777777777778,\"#fb9f3a\"],[0.8888888888888888,\"#fdca26\"],[1.0,\"#f0f921\"]],\"sequentialminus\":[[0.0,\"#0d0887\"],[0.1111111111111111,\"#46039f\"],[0.2222222222222222,\"#7201a8\"],[0.3333333333333333,\"#9c179e\"],[0.4444444444444444,\"#bd3786\"],[0.5555555555555556,\"#d8576b\"],[0.6666666666666666,\"#ed7953\"],[0.7777777777777778,\"#fb9f3a\"],[0.8888888888888888,\"#fdca26\"],[1.0,\"#f0f921\"]]},\"colorway\":[\"#636efa\",\"#EF553B\",\"#00cc96\",\"#ab63fa\",\"#FFA15A\",\"#19d3f3\",\"#FF6692\",\"#B6E880\",\"#FF97FF\",\"#FECB52\"],\"font\":{\"color\":\"#2a3f5f\"},\"geo\":{\"bgcolor\":\"white\",\"lakecolor\":\"white\",\"landcolor\":\"#E5ECF6\",\"showlakes\":true,\"showland\":true,\"subunitcolor\":\"white\"},\"hoverlabel\":{\"align\":\"left\"},\"hovermode\":\"closest\",\"mapbox\":{\"style\":\"light\"},\"paper_bgcolor\":\"white\",\"plot_bgcolor\":\"#E5ECF6\",\"polar\":{\"angularaxis\":{\"gridcolor\":\"white\",\"linecolor\":\"white\",\"ticks\":\"\"},\"bgcolor\":\"#E5ECF6\",\"radialaxis\":{\"gridcolor\":\"white\",\"linecolor\":\"white\",\"ticks\":\"\"}},\"scene\":{\"xaxis\":{\"backgroundcolor\":\"#E5ECF6\",\"gridcolor\":\"white\",\"gridwidth\":2,\"linecolor\":\"white\",\"showbackground\":true,\"ticks\":\"\",\"zerolinecolor\":\"white\"},\"yaxis\":{\"backgroundcolor\":\"#E5ECF6\",\"gridcolor\":\"white\",\"gridwidth\":2,\"linecolor\":\"white\",\"showbackground\":true,\"ticks\":\"\",\"zerolinecolor\":\"white\"},\"zaxis\":{\"backgroundcolor\":\"#E5ECF6\",\"gridcolor\":\"white\",\"gridwidth\":2,\"linecolor\":\"white\",\"showbackground\":true,\"ticks\":\"\",\"zerolinecolor\":\"white\"}},\"shapedefaults\":{\"line\":{\"color\":\"#2a3f5f\"}},\"ternary\":{\"aaxis\":{\"gridcolor\":\"white\",\"linecolor\":\"white\",\"ticks\":\"\"},\"baxis\":{\"gridcolor\":\"white\",\"linecolor\":\"white\",\"ticks\":\"\"},\"bgcolor\":\"#E5ECF6\",\"caxis\":{\"gridcolor\":\"white\",\"linecolor\":\"white\",\"ticks\":\"\"}},\"title\":{\"x\":0.05},\"xaxis\":{\"automargin\":true,\"gridcolor\":\"white\",\"linecolor\":\"white\",\"ticks\":\"\",\"title\":{\"standoff\":15},\"zerolinecolor\":\"white\",\"zerolinewidth\":2},\"yaxis\":{\"automargin\":true,\"gridcolor\":\"white\",\"linecolor\":\"white\",\"ticks\":\"\",\"title\":{\"standoff\":15},\"zerolinecolor\":\"white\",\"zerolinewidth\":2}}},\"xaxis\":{\"title\":{\"text\":\"Epoki\"}},\"yaxis\":{\"title\":{\"text\":\"binary_crossentropy\"}}},                        {\"responsive\": true}                    ).then(function(){\n",
              "                            \n",
              "var gd = document.getElementById('efa05836-7ab4-4054-af6e-9643914dcc66');\n",
              "var x = new MutationObserver(function (mutations, observer) {{\n",
              "        var display = window.getComputedStyle(gd).display;\n",
              "        if (!display || display === 'none') {{\n",
              "            console.log([gd, 'removed!']);\n",
              "            Plotly.purge(gd);\n",
              "            observer.disconnect();\n",
              "        }}\n",
              "}});\n",
              "\n",
              "// Listen for the removal of the full notebook cells\n",
              "var notebookContainer = gd.closest('#notebook-container');\n",
              "if (notebookContainer) {{\n",
              "    x.observe(notebookContainer, {childList: true});\n",
              "}}\n",
              "\n",
              "// Listen for the clearing of the current output cell\n",
              "var outputEl = gd.closest('.output');\n",
              "if (outputEl) {{\n",
              "    x.observe(outputEl, {childList: true});\n",
              "}}\n",
              "\n",
              "                        })                };                            </script>        </div>\n",
              "</body>\n",
              "</html>"
            ]
          },
          "metadata": {}
        }
      ]
    },
    {
      "cell_type": "code",
      "source": [
        ""
      ],
      "metadata": {
        "id": "qCZME68SdqiO"
      },
      "execution_count": null,
      "outputs": []
    }
  ]
}