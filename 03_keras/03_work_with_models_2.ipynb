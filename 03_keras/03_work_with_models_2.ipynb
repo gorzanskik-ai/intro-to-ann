{
  "nbformat": 4,
  "nbformat_minor": 0,
  "metadata": {
    "colab": {
      "name": "03_work_with_models_2.ipynb",
      "provenance": [],
      "collapsed_sections": [],
      "authorship_tag": "ABX9TyMtfVr5o09J2UwiPcqRBB+A",
      "include_colab_link": true
    },
    "kernelspec": {
      "name": "python3",
      "display_name": "Python 3"
    },
    "language_info": {
      "name": "python"
    }
  },
  "cells": [
    {
      "cell_type": "markdown",
      "metadata": {
        "id": "view-in-github",
        "colab_type": "text"
      },
      "source": [
        "<a href=\"https://colab.research.google.com/github/gorzanskik-ai/intro-to-ann/blob/main/03_keras/03_work_with_models_2.ipynb\" target=\"_parent\"><img src=\"https://colab.research.google.com/assets/colab-badge.svg\" alt=\"Open In Colab\"/></a>"
      ]
    },
    {
      "cell_type": "code",
      "execution_count": 22,
      "metadata": {
        "id": "jcwO08Qhsdl-"
      },
      "outputs": [],
      "source": [
        "import numpy as np\n",
        "import plotly.graph_objects as go\n",
        "\n",
        "from tensorflow.keras.models import Sequential\n",
        "from tensorflow.keras.layers import Dense, Flatten, Dropout\n",
        "from tensorflow.keras.datasets.mnist import load_data"
      ]
    },
    {
      "cell_type": "code",
      "source": [
        "(X_train, y_train), (X_test, y_test) = load_data()"
      ],
      "metadata": {
        "id": "ZcIzNXx1s_81"
      },
      "execution_count": 23,
      "outputs": []
    },
    {
      "cell_type": "code",
      "source": [
        "X_train.shape"
      ],
      "metadata": {
        "colab": {
          "base_uri": "https://localhost:8080/"
        },
        "id": "qO7Okr0ttOQr",
        "outputId": "d517cdbb-b7b3-44d6-9979-b0b24fd958b4"
      },
      "execution_count": 24,
      "outputs": [
        {
          "output_type": "execute_result",
          "data": {
            "text/plain": [
              "(60000, 28, 28)"
            ]
          },
          "metadata": {},
          "execution_count": 24
        }
      ]
    },
    {
      "cell_type": "code",
      "source": [
        "X_train = X_train / 255.    #standaryzacja\n",
        "X_test = X_test / 255."
      ],
      "metadata": {
        "id": "FR5Y4v2TtRsr"
      },
      "execution_count": 25,
      "outputs": []
    },
    {
      "cell_type": "code",
      "source": [
        "model = Sequential()\n",
        "model.add(Flatten(input_shape=(28, 28)))\n",
        "model.add(Dense(units=128, activation='relu'))\n",
        "model.add(Dropout(0.2))\n",
        "model.add(Dense(units=10, activation='softmax'))\n",
        "\n",
        "model.compile(optimizer='adam',\n",
        "              loss='categorical_crossentropy',\n",
        "              metrics=['accuracy'])\n",
        "model.summary()"
      ],
      "metadata": {
        "colab": {
          "base_uri": "https://localhost:8080/"
        },
        "id": "BWETudgttwiY",
        "outputId": "311e9cae-3902-4256-d6c6-43aca39669cc"
      },
      "execution_count": 26,
      "outputs": [
        {
          "output_type": "stream",
          "name": "stdout",
          "text": [
            "Model: \"sequential_2\"\n",
            "_________________________________________________________________\n",
            " Layer (type)                Output Shape              Param #   \n",
            "=================================================================\n",
            " flatten_2 (Flatten)         (None, 784)               0         \n",
            "                                                                 \n",
            " dense_4 (Dense)             (None, 128)               100480    \n",
            "                                                                 \n",
            " dropout_2 (Dropout)         (None, 128)               0         \n",
            "                                                                 \n",
            " dense_5 (Dense)             (None, 10)                1290      \n",
            "                                                                 \n",
            "=================================================================\n",
            "Total params: 101,770\n",
            "Trainable params: 101,770\n",
            "Non-trainable params: 0\n",
            "_________________________________________________________________\n"
          ]
        }
      ]
    },
    {
      "cell_type": "code",
      "source": [
        "y_train"
      ],
      "metadata": {
        "colab": {
          "base_uri": "https://localhost:8080/"
        },
        "id": "O721a34uv4Rw",
        "outputId": "ca877c50-7c2e-4b54-a8f7-473b3a1b11fb"
      },
      "execution_count": 27,
      "outputs": [
        {
          "output_type": "execute_result",
          "data": {
            "text/plain": [
              "array([5, 0, 4, ..., 5, 6, 8], dtype=uint8)"
            ]
          },
          "metadata": {},
          "execution_count": 27
        }
      ]
    },
    {
      "cell_type": "code",
      "source": [
        "from tensorflow.keras.utils import to_categorical\n",
        "\n",
        "y_train = to_categorical(y_train, num_classes=10)\n",
        "y_train"
      ],
      "metadata": {
        "colab": {
          "base_uri": "https://localhost:8080/"
        },
        "id": "yKFlGciuvqU_",
        "outputId": "50c7f95e-6127-4beb-8db0-4b0a881a5681"
      },
      "execution_count": 28,
      "outputs": [
        {
          "output_type": "execute_result",
          "data": {
            "text/plain": [
              "array([[0., 0., 0., ..., 0., 0., 0.],\n",
              "       [1., 0., 0., ..., 0., 0., 0.],\n",
              "       [0., 0., 0., ..., 0., 0., 0.],\n",
              "       ...,\n",
              "       [0., 0., 0., ..., 0., 0., 0.],\n",
              "       [0., 0., 0., ..., 0., 0., 0.],\n",
              "       [0., 0., 0., ..., 0., 1., 0.]], dtype=float32)"
            ]
          },
          "metadata": {},
          "execution_count": 28
        }
      ]
    },
    {
      "cell_type": "code",
      "source": [
        "model.fit(X_train, y_train, epochs=50, validation_split=0.2, batch_size=32)"
      ],
      "metadata": {
        "colab": {
          "base_uri": "https://localhost:8080/"
        },
        "id": "jxIoTksuuUqp",
        "outputId": "292beea0-c93e-40c3-b4aa-379ed65540c0"
      },
      "execution_count": 29,
      "outputs": [
        {
          "output_type": "stream",
          "name": "stdout",
          "text": [
            "Epoch 1/50\n",
            "1500/1500 [==============================] - 5s 3ms/step - loss: 0.3287 - accuracy: 0.9045 - val_loss: 0.1610 - val_accuracy: 0.9551\n",
            "Epoch 2/50\n",
            "1500/1500 [==============================] - 4s 3ms/step - loss: 0.1635 - accuracy: 0.9529 - val_loss: 0.1240 - val_accuracy: 0.9643\n",
            "Epoch 3/50\n",
            "1500/1500 [==============================] - 4s 3ms/step - loss: 0.1191 - accuracy: 0.9642 - val_loss: 0.1038 - val_accuracy: 0.9696\n",
            "Epoch 4/50\n",
            "1500/1500 [==============================] - 4s 3ms/step - loss: 0.0986 - accuracy: 0.9704 - val_loss: 0.0900 - val_accuracy: 0.9746\n",
            "Epoch 5/50\n",
            "1500/1500 [==============================] - 4s 3ms/step - loss: 0.0827 - accuracy: 0.9736 - val_loss: 0.0867 - val_accuracy: 0.9747\n",
            "Epoch 6/50\n",
            "1500/1500 [==============================] - 4s 3ms/step - loss: 0.0718 - accuracy: 0.9771 - val_loss: 0.0869 - val_accuracy: 0.9737\n",
            "Epoch 7/50\n",
            "1500/1500 [==============================] - 4s 3ms/step - loss: 0.0630 - accuracy: 0.9806 - val_loss: 0.0883 - val_accuracy: 0.9753\n",
            "Epoch 8/50\n",
            "1500/1500 [==============================] - 4s 3ms/step - loss: 0.0567 - accuracy: 0.9820 - val_loss: 0.0851 - val_accuracy: 0.9753\n",
            "Epoch 9/50\n",
            "1500/1500 [==============================] - 4s 3ms/step - loss: 0.0522 - accuracy: 0.9832 - val_loss: 0.0888 - val_accuracy: 0.9750\n",
            "Epoch 10/50\n",
            "1500/1500 [==============================] - 4s 3ms/step - loss: 0.0467 - accuracy: 0.9845 - val_loss: 0.0931 - val_accuracy: 0.9757\n",
            "Epoch 11/50\n",
            "1500/1500 [==============================] - 4s 3ms/step - loss: 0.0408 - accuracy: 0.9867 - val_loss: 0.0875 - val_accuracy: 0.9772\n",
            "Epoch 12/50\n",
            "1500/1500 [==============================] - 4s 3ms/step - loss: 0.0409 - accuracy: 0.9861 - val_loss: 0.0855 - val_accuracy: 0.9782\n",
            "Epoch 13/50\n",
            "1500/1500 [==============================] - 4s 3ms/step - loss: 0.0368 - accuracy: 0.9878 - val_loss: 0.0917 - val_accuracy: 0.9775\n",
            "Epoch 14/50\n",
            "1500/1500 [==============================] - 4s 3ms/step - loss: 0.0348 - accuracy: 0.9887 - val_loss: 0.0896 - val_accuracy: 0.9776\n",
            "Epoch 15/50\n",
            "1500/1500 [==============================] - 4s 3ms/step - loss: 0.0340 - accuracy: 0.9884 - val_loss: 0.0880 - val_accuracy: 0.9784\n",
            "Epoch 16/50\n",
            "1500/1500 [==============================] - 4s 3ms/step - loss: 0.0326 - accuracy: 0.9889 - val_loss: 0.0897 - val_accuracy: 0.9789\n",
            "Epoch 17/50\n",
            "1500/1500 [==============================] - 4s 3ms/step - loss: 0.0298 - accuracy: 0.9900 - val_loss: 0.0896 - val_accuracy: 0.9788\n",
            "Epoch 18/50\n",
            "1500/1500 [==============================] - 4s 3ms/step - loss: 0.0276 - accuracy: 0.9907 - val_loss: 0.0945 - val_accuracy: 0.9784\n",
            "Epoch 19/50\n",
            "1500/1500 [==============================] - 4s 3ms/step - loss: 0.0287 - accuracy: 0.9902 - val_loss: 0.0913 - val_accuracy: 0.9783\n",
            "Epoch 20/50\n",
            "1500/1500 [==============================] - 4s 3ms/step - loss: 0.0255 - accuracy: 0.9911 - val_loss: 0.0968 - val_accuracy: 0.9783\n",
            "Epoch 21/50\n",
            "1500/1500 [==============================] - 4s 3ms/step - loss: 0.0249 - accuracy: 0.9912 - val_loss: 0.0978 - val_accuracy: 0.9778\n",
            "Epoch 22/50\n",
            "1500/1500 [==============================] - 4s 3ms/step - loss: 0.0251 - accuracy: 0.9911 - val_loss: 0.0943 - val_accuracy: 0.9778\n",
            "Epoch 23/50\n",
            "1500/1500 [==============================] - 4s 3ms/step - loss: 0.0228 - accuracy: 0.9921 - val_loss: 0.0977 - val_accuracy: 0.9798\n",
            "Epoch 24/50\n",
            "1500/1500 [==============================] - 4s 3ms/step - loss: 0.0227 - accuracy: 0.9921 - val_loss: 0.0975 - val_accuracy: 0.9786\n",
            "Epoch 25/50\n",
            "1500/1500 [==============================] - 4s 3ms/step - loss: 0.0225 - accuracy: 0.9918 - val_loss: 0.1035 - val_accuracy: 0.9784\n",
            "Epoch 26/50\n",
            "1500/1500 [==============================] - 4s 3ms/step - loss: 0.0213 - accuracy: 0.9928 - val_loss: 0.1163 - val_accuracy: 0.9776\n",
            "Epoch 27/50\n",
            "1500/1500 [==============================] - 5s 3ms/step - loss: 0.0216 - accuracy: 0.9922 - val_loss: 0.1106 - val_accuracy: 0.9767\n",
            "Epoch 28/50\n",
            "1500/1500 [==============================] - 5s 3ms/step - loss: 0.0205 - accuracy: 0.9928 - val_loss: 0.1145 - val_accuracy: 0.9760\n",
            "Epoch 29/50\n",
            "1500/1500 [==============================] - 4s 3ms/step - loss: 0.0199 - accuracy: 0.9937 - val_loss: 0.1138 - val_accuracy: 0.9772\n",
            "Epoch 30/50\n",
            "1500/1500 [==============================] - 4s 3ms/step - loss: 0.0194 - accuracy: 0.9933 - val_loss: 0.1028 - val_accuracy: 0.9791\n",
            "Epoch 31/50\n",
            "1500/1500 [==============================] - 4s 3ms/step - loss: 0.0189 - accuracy: 0.9933 - val_loss: 0.1132 - val_accuracy: 0.9774\n",
            "Epoch 32/50\n",
            "1500/1500 [==============================] - 4s 3ms/step - loss: 0.0168 - accuracy: 0.9941 - val_loss: 0.1116 - val_accuracy: 0.9778\n",
            "Epoch 33/50\n",
            "1500/1500 [==============================] - 4s 3ms/step - loss: 0.0187 - accuracy: 0.9937 - val_loss: 0.1127 - val_accuracy: 0.9771\n",
            "Epoch 34/50\n",
            "1500/1500 [==============================] - 4s 3ms/step - loss: 0.0174 - accuracy: 0.9940 - val_loss: 0.1202 - val_accuracy: 0.9782\n",
            "Epoch 35/50\n",
            "1500/1500 [==============================] - 4s 3ms/step - loss: 0.0191 - accuracy: 0.9933 - val_loss: 0.1156 - val_accuracy: 0.9772\n",
            "Epoch 36/50\n",
            "1500/1500 [==============================] - 4s 3ms/step - loss: 0.0176 - accuracy: 0.9940 - val_loss: 0.1150 - val_accuracy: 0.9775\n",
            "Epoch 37/50\n",
            "1500/1500 [==============================] - 4s 3ms/step - loss: 0.0191 - accuracy: 0.9934 - val_loss: 0.1270 - val_accuracy: 0.9776\n",
            "Epoch 38/50\n",
            "1500/1500 [==============================] - 4s 3ms/step - loss: 0.0184 - accuracy: 0.9935 - val_loss: 0.1191 - val_accuracy: 0.9778\n",
            "Epoch 39/50\n",
            "1500/1500 [==============================] - 4s 3ms/step - loss: 0.0158 - accuracy: 0.9943 - val_loss: 0.1223 - val_accuracy: 0.9774\n",
            "Epoch 40/50\n",
            "1500/1500 [==============================] - 4s 3ms/step - loss: 0.0158 - accuracy: 0.9943 - val_loss: 0.1244 - val_accuracy: 0.9768\n",
            "Epoch 41/50\n",
            "1500/1500 [==============================] - 4s 3ms/step - loss: 0.0153 - accuracy: 0.9947 - val_loss: 0.1165 - val_accuracy: 0.9793\n",
            "Epoch 42/50\n",
            "1500/1500 [==============================] - 4s 3ms/step - loss: 0.0151 - accuracy: 0.9947 - val_loss: 0.1275 - val_accuracy: 0.9773\n",
            "Epoch 43/50\n",
            "1500/1500 [==============================] - 4s 3ms/step - loss: 0.0174 - accuracy: 0.9946 - val_loss: 0.1178 - val_accuracy: 0.9796\n",
            "Epoch 44/50\n",
            "1500/1500 [==============================] - 4s 3ms/step - loss: 0.0161 - accuracy: 0.9947 - val_loss: 0.1343 - val_accuracy: 0.9769\n",
            "Epoch 45/50\n",
            "1500/1500 [==============================] - 4s 3ms/step - loss: 0.0163 - accuracy: 0.9944 - val_loss: 0.1308 - val_accuracy: 0.9787\n",
            "Epoch 46/50\n",
            "1500/1500 [==============================] - 4s 3ms/step - loss: 0.0178 - accuracy: 0.9939 - val_loss: 0.1328 - val_accuracy: 0.9793\n",
            "Epoch 47/50\n",
            "1500/1500 [==============================] - 4s 3ms/step - loss: 0.0129 - accuracy: 0.9957 - val_loss: 0.1360 - val_accuracy: 0.9774\n",
            "Epoch 48/50\n",
            "1500/1500 [==============================] - 4s 3ms/step - loss: 0.0135 - accuracy: 0.9951 - val_loss: 0.1336 - val_accuracy: 0.9771\n",
            "Epoch 49/50\n",
            "1500/1500 [==============================] - 4s 3ms/step - loss: 0.0147 - accuracy: 0.9951 - val_loss: 0.1301 - val_accuracy: 0.9795\n",
            "Epoch 50/50\n",
            "1500/1500 [==============================] - 4s 3ms/step - loss: 0.0160 - accuracy: 0.9946 - val_loss: 0.1367 - val_accuracy: 0.9791\n"
          ]
        },
        {
          "output_type": "execute_result",
          "data": {
            "text/plain": [
              "<keras.callbacks.History at 0x7f816fb0ae10>"
            ]
          },
          "metadata": {},
          "execution_count": 29
        }
      ]
    },
    {
      "cell_type": "code",
      "source": [
        "#Praca z modelem"
      ],
      "metadata": {
        "id": "SG9T1tMKugyh"
      },
      "execution_count": 30,
      "outputs": []
    },
    {
      "cell_type": "code",
      "source": [
        "model.layers"
      ],
      "metadata": {
        "colab": {
          "base_uri": "https://localhost:8080/"
        },
        "id": "9MiUsrtkxWAt",
        "outputId": "abe9f87a-e887-40f2-e8ef-78946494e4bd"
      },
      "execution_count": 31,
      "outputs": [
        {
          "output_type": "execute_result",
          "data": {
            "text/plain": [
              "[<keras.layers.core.flatten.Flatten at 0x7f817be10550>,\n",
              " <keras.layers.core.dense.Dense at 0x7f8170b43ed0>,\n",
              " <keras.layers.core.dropout.Dropout at 0x7f8170b5b250>,\n",
              " <keras.layers.core.dense.Dense at 0x7f8170b25a90>]"
            ]
          },
          "metadata": {},
          "execution_count": 31
        }
      ]
    },
    {
      "cell_type": "code",
      "source": [
        "model.inputs"
      ],
      "metadata": {
        "colab": {
          "base_uri": "https://localhost:8080/"
        },
        "id": "T2NklEGcx377",
        "outputId": "97b308b4-9d20-4415-87ac-2d8d77d3cfed"
      },
      "execution_count": 32,
      "outputs": [
        {
          "output_type": "execute_result",
          "data": {
            "text/plain": [
              "[<KerasTensor: shape=(None, 28, 28) dtype=float32 (created by layer 'flatten_2_input')>]"
            ]
          },
          "metadata": {},
          "execution_count": 32
        }
      ]
    },
    {
      "cell_type": "code",
      "source": [
        "model.outputs"
      ],
      "metadata": {
        "colab": {
          "base_uri": "https://localhost:8080/"
        },
        "id": "kyZY_nnpx_-1",
        "outputId": "87730d70-312b-424f-a1f8-ba32c56d31fd"
      },
      "execution_count": 33,
      "outputs": [
        {
          "output_type": "execute_result",
          "data": {
            "text/plain": [
              "[<KerasTensor: shape=(None, 10) dtype=float32 (created by layer 'dense_5')>]"
            ]
          },
          "metadata": {},
          "execution_count": 33
        }
      ]
    },
    {
      "cell_type": "code",
      "source": [
        "model.get_config()"
      ],
      "metadata": {
        "colab": {
          "base_uri": "https://localhost:8080/"
        },
        "id": "btJADet5yCjf",
        "outputId": "8556b84f-4517-48af-d538-78880b7c565e"
      },
      "execution_count": 34,
      "outputs": [
        {
          "output_type": "execute_result",
          "data": {
            "text/plain": [
              "{'layers': [{'class_name': 'InputLayer',\n",
              "   'config': {'batch_input_shape': (None, 28, 28),\n",
              "    'dtype': 'float32',\n",
              "    'name': 'flatten_2_input',\n",
              "    'ragged': False,\n",
              "    'sparse': False}},\n",
              "  {'class_name': 'Flatten',\n",
              "   'config': {'batch_input_shape': (None, 28, 28),\n",
              "    'data_format': 'channels_last',\n",
              "    'dtype': 'float32',\n",
              "    'name': 'flatten_2',\n",
              "    'trainable': True}},\n",
              "  {'class_name': 'Dense',\n",
              "   'config': {'activation': 'relu',\n",
              "    'activity_regularizer': None,\n",
              "    'bias_constraint': None,\n",
              "    'bias_initializer': {'class_name': 'Zeros', 'config': {}},\n",
              "    'bias_regularizer': None,\n",
              "    'dtype': 'float32',\n",
              "    'kernel_constraint': None,\n",
              "    'kernel_initializer': {'class_name': 'GlorotUniform',\n",
              "     'config': {'seed': None}},\n",
              "    'kernel_regularizer': None,\n",
              "    'name': 'dense_4',\n",
              "    'trainable': True,\n",
              "    'units': 128,\n",
              "    'use_bias': True}},\n",
              "  {'class_name': 'Dropout',\n",
              "   'config': {'dtype': 'float32',\n",
              "    'name': 'dropout_2',\n",
              "    'noise_shape': None,\n",
              "    'rate': 0.2,\n",
              "    'seed': None,\n",
              "    'trainable': True}},\n",
              "  {'class_name': 'Dense',\n",
              "   'config': {'activation': 'softmax',\n",
              "    'activity_regularizer': None,\n",
              "    'bias_constraint': None,\n",
              "    'bias_initializer': {'class_name': 'Zeros', 'config': {}},\n",
              "    'bias_regularizer': None,\n",
              "    'dtype': 'float32',\n",
              "    'kernel_constraint': None,\n",
              "    'kernel_initializer': {'class_name': 'GlorotUniform',\n",
              "     'config': {'seed': None}},\n",
              "    'kernel_regularizer': None,\n",
              "    'name': 'dense_5',\n",
              "    'trainable': True,\n",
              "    'units': 10,\n",
              "    'use_bias': True}}],\n",
              " 'name': 'sequential_2'}"
            ]
          },
          "metadata": {},
          "execution_count": 34
        }
      ]
    },
    {
      "cell_type": "code",
      "source": [
        "model.get_weights()"
      ],
      "metadata": {
        "colab": {
          "base_uri": "https://localhost:8080/"
        },
        "id": "DBAj82SdySjd",
        "outputId": "8aa8899d-9f30-4c9f-ff8b-fc51b6a494d4"
      },
      "execution_count": 35,
      "outputs": [
        {
          "output_type": "execute_result",
          "data": {
            "text/plain": [
              "[array([[-0.01605611,  0.05176347, -0.06119645, ...,  0.06982153,\n",
              "         -0.06934368,  0.01869482],\n",
              "        [ 0.03879058, -0.01342127,  0.01302753, ...,  0.03299186,\n",
              "          0.0190658 ,  0.04567463],\n",
              "        [-0.05736506, -0.05428357,  0.01974941, ...,  0.00359163,\n",
              "          0.03050087, -0.01521582],\n",
              "        ...,\n",
              "        [-0.07939757, -0.03583255,  0.05799019, ..., -0.03802397,\n",
              "         -0.01794648, -0.01585058],\n",
              "        [-0.03537915,  0.05760265, -0.08005128, ..., -0.03411466,\n",
              "          0.02269872,  0.00660299],\n",
              "        [-0.03790521,  0.0126076 , -0.07856823, ...,  0.04414456,\n",
              "         -0.0296488 , -0.00527121]], dtype=float32),\n",
              " array([-0.32896942,  0.00799346, -0.02120932,  0.05573032, -0.07435291,\n",
              "        -0.22028057, -0.0134428 ,  0.29220754, -0.5791156 , -0.13297395,\n",
              "        -0.04009558, -0.6961266 ,  0.0287044 ,  0.00273115, -0.1258817 ,\n",
              "        -0.05104679, -0.35449073,  0.24653697, -0.5035847 , -0.08108937,\n",
              "        -0.13149676,  0.17414482, -0.21182793, -0.22031687, -0.18019867,\n",
              "        -0.6100147 , -0.18681744,  0.6643737 , -0.00196885, -0.24325247,\n",
              "         0.02453402,  0.37285277, -0.35505316, -0.38460794, -0.17992479,\n",
              "         0.36219546,  0.0704785 ,  0.15649797,  0.27270177, -0.11035674,\n",
              "         0.04386991, -0.4891871 , -0.00914443, -0.01668441, -0.21950485,\n",
              "        -0.03234084, -0.15187855,  0.00977657,  0.21037748,  0.4958747 ,\n",
              "         0.08753204, -0.0935107 , -0.18165118, -0.31753147, -0.28249678,\n",
              "        -0.02885442,  0.05021311,  0.17770173, -0.16379128, -0.11253192,\n",
              "        -0.44098932, -0.30096695, -0.2282164 , -0.8252275 ,  0.13818823,\n",
              "        -0.00118269,  0.02636554, -0.09868523, -0.14234489, -0.68445456,\n",
              "        -0.09182293, -0.3430863 ,  0.04263259, -0.59719336, -0.20783748,\n",
              "         0.19658574, -0.04756764, -0.23694071, -0.5248236 , -0.4339945 ,\n",
              "         0.02658638,  0.1271155 ,  0.01216863, -0.19075969,  0.05163565,\n",
              "         0.34610116, -0.12593095, -0.17316213, -0.6106625 , -0.26548946,\n",
              "        -0.16149555, -0.14254816,  0.06848565,  0.29669714, -0.5910933 ,\n",
              "        -0.16946143, -0.18710966, -0.39826083,  0.00530179, -0.53480226,\n",
              "         0.01182732, -0.13316031,  0.04976993, -0.31782177, -0.02746916,\n",
              "        -0.31654233,  0.33887038, -0.25075266, -0.26134953, -0.15945482,\n",
              "        -0.4679594 , -0.3944335 ,  0.10448075, -0.02066245,  0.02463612,\n",
              "        -0.25443903,  0.24009441, -0.01144983, -0.43928412, -0.2022941 ,\n",
              "        -0.0125419 ,  0.3488578 , -0.09445712, -0.47944105, -0.3245775 ,\n",
              "         0.26501375,  0.12762892,  0.08048714], dtype=float32),\n",
              " array([[-0.17653206,  0.48669437,  0.04752002, ...,  0.49766946,\n",
              "         -0.25145993,  0.14935783],\n",
              "        [-1.4258596 , -0.47380823, -0.1023771 , ...,  0.04581244,\n",
              "          0.15003353,  0.1613501 ],\n",
              "        [ 0.32112288,  0.15741633, -0.6197045 , ...,  0.39105394,\n",
              "         -1.3158973 ,  0.2330524 ],\n",
              "        ...,\n",
              "        [-0.32378674,  0.5323819 , -1.26717   , ...,  0.5564372 ,\n",
              "         -0.309613  ,  0.13193919],\n",
              "        [-1.6496353 ,  0.3206668 , -1.3926516 , ..., -0.17171901,\n",
              "         -1.072729  ,  0.34663007],\n",
              "        [-1.0010573 ,  0.21970576, -0.14428401, ...,  0.17838648,\n",
              "          0.26320624, -0.24751724]], dtype=float32),\n",
              " array([ 0.21748887, -0.21221611, -0.85419804, -0.2929132 ,  0.21404098,\n",
              "        -0.4412952 ,  0.13745934, -0.5172999 ,  1.3596857 ,  0.18655379],\n",
              "       dtype=float32)]"
            ]
          },
          "metadata": {},
          "execution_count": 35
        }
      ]
    },
    {
      "cell_type": "code",
      "source": [
        "for i in range(4):\n",
        "    print(model.get_weights()[i].shape)"
      ],
      "metadata": {
        "colab": {
          "base_uri": "https://localhost:8080/"
        },
        "id": "0pFFpkyQytKr",
        "outputId": "59845a8e-4855-431b-a38c-7c46351304ef"
      },
      "execution_count": 37,
      "outputs": [
        {
          "output_type": "stream",
          "name": "stdout",
          "text": [
            "(784, 128)\n",
            "(128,)\n",
            "(128, 10)\n",
            "(10,)\n"
          ]
        }
      ]
    },
    {
      "cell_type": "code",
      "source": [
        "#zapis konfiguracji modelu do pliku json\n",
        "#tak samo w przypadku plików yaml\n",
        "model_json = model.to_json()"
      ],
      "metadata": {
        "id": "4h8zBWIfzD_m"
      },
      "execution_count": 41,
      "outputs": []
    },
    {
      "cell_type": "code",
      "source": [
        "model_json"
      ],
      "metadata": {
        "colab": {
          "base_uri": "https://localhost:8080/",
          "height": 122
        },
        "id": "W6nYmhxvzx5d",
        "outputId": "2f529628-ccd8-42a8-9286-cbf638bd3a20"
      },
      "execution_count": 39,
      "outputs": [
        {
          "output_type": "execute_result",
          "data": {
            "text/plain": [
              "'{\"class_name\": \"Sequential\", \"config\": {\"name\": \"sequential_2\", \"layers\": [{\"class_name\": \"InputLayer\", \"config\": {\"batch_input_shape\": [null, 28, 28], \"dtype\": \"float32\", \"sparse\": false, \"ragged\": false, \"name\": \"flatten_2_input\"}}, {\"class_name\": \"Flatten\", \"config\": {\"name\": \"flatten_2\", \"trainable\": true, \"batch_input_shape\": [null, 28, 28], \"dtype\": \"float32\", \"data_format\": \"channels_last\"}}, {\"class_name\": \"Dense\", \"config\": {\"name\": \"dense_4\", \"trainable\": true, \"dtype\": \"float32\", \"units\": 128, \"activation\": \"relu\", \"use_bias\": true, \"kernel_initializer\": {\"class_name\": \"GlorotUniform\", \"config\": {\"seed\": null}}, \"bias_initializer\": {\"class_name\": \"Zeros\", \"config\": {}}, \"kernel_regularizer\": null, \"bias_regularizer\": null, \"activity_regularizer\": null, \"kernel_constraint\": null, \"bias_constraint\": null}}, {\"class_name\": \"Dropout\", \"config\": {\"name\": \"dropout_2\", \"trainable\": true, \"dtype\": \"float32\", \"rate\": 0.2, \"noise_shape\": null, \"seed\": null}}, {\"class_name\": \"Dense\", \"config\": {\"name\": \"dense_5\", \"trainable\": true, \"dtype\": \"float32\", \"units\": 10, \"activation\": \"softmax\", \"use_bias\": true, \"kernel_initializer\": {\"class_name\": \"GlorotUniform\", \"config\": {\"seed\": null}}, \"bias_initializer\": {\"class_name\": \"Zeros\", \"config\": {}}, \"kernel_regularizer\": null, \"bias_regularizer\": null, \"activity_regularizer\": null, \"kernel_constraint\": null, \"bias_constraint\": null}}]}, \"keras_version\": \"2.8.0\", \"backend\": \"tensorflow\"}'"
            ],
            "application/vnd.google.colaboratory.intrinsic+json": {
              "type": "string"
            }
          },
          "metadata": {},
          "execution_count": 39
        }
      ]
    },
    {
      "cell_type": "code",
      "source": [
        "#odczyt modelu z pliku json\n",
        "from tensorflow.keras.models import model_from_json\n",
        "\n",
        "model2 = model_from_json(model_json)\n",
        "model2.summary()"
      ],
      "metadata": {
        "colab": {
          "base_uri": "https://localhost:8080/"
        },
        "id": "Ht_Wu8OLzzXn",
        "outputId": "2b8723d5-9863-4281-9bf5-c51b6d8ef3a5"
      },
      "execution_count": 40,
      "outputs": [
        {
          "output_type": "stream",
          "name": "stdout",
          "text": [
            "Model: \"sequential_2\"\n",
            "_________________________________________________________________\n",
            " Layer (type)                Output Shape              Param #   \n",
            "=================================================================\n",
            " flatten_2 (Flatten)         (None, 784)               0         \n",
            "                                                                 \n",
            " dense_4 (Dense)             (None, 128)               100480    \n",
            "                                                                 \n",
            " dropout_2 (Dropout)         (None, 128)               0         \n",
            "                                                                 \n",
            " dense_5 (Dense)             (None, 10)                1290      \n",
            "                                                                 \n",
            "=================================================================\n",
            "Total params: 101,770\n",
            "Trainable params: 101,770\n",
            "Non-trainable params: 0\n",
            "_________________________________________________________________\n"
          ]
        }
      ]
    },
    {
      "cell_type": "code",
      "source": [
        "#Atrybury warstwy"
      ],
      "metadata": {
        "id": "8lU6EI_w0Q3Q"
      },
      "execution_count": 42,
      "outputs": []
    },
    {
      "cell_type": "code",
      "source": [
        "dense_layer = model.layers[1]"
      ],
      "metadata": {
        "id": "f7KxbFhu1L5O"
      },
      "execution_count": 45,
      "outputs": []
    },
    {
      "cell_type": "code",
      "source": [
        "dense_layer.input"
      ],
      "metadata": {
        "colab": {
          "base_uri": "https://localhost:8080/"
        },
        "id": "ZYnLl8001Oog",
        "outputId": "8caf0356-c31e-467b-e2a9-a1c6c25ad3c3"
      },
      "execution_count": 46,
      "outputs": [
        {
          "output_type": "execute_result",
          "data": {
            "text/plain": [
              "<KerasTensor: shape=(None, 784) dtype=float32 (created by layer 'flatten_2')>"
            ]
          },
          "metadata": {},
          "execution_count": 46
        }
      ]
    },
    {
      "cell_type": "code",
      "source": [
        "dense_layer.input_shape"
      ],
      "metadata": {
        "colab": {
          "base_uri": "https://localhost:8080/"
        },
        "id": "r4XCUjcO1pGt",
        "outputId": "64333463-01ff-41d7-f46a-648c9a7e1409"
      },
      "execution_count": 47,
      "outputs": [
        {
          "output_type": "execute_result",
          "data": {
            "text/plain": [
              "(None, 784)"
            ]
          },
          "metadata": {},
          "execution_count": 47
        }
      ]
    },
    {
      "cell_type": "code",
      "source": [
        "dense_layer.output"
      ],
      "metadata": {
        "colab": {
          "base_uri": "https://localhost:8080/"
        },
        "id": "uKbYlpaj1sdz",
        "outputId": "f1c06ccb-ea92-46dd-f466-21f63c1358fb"
      },
      "execution_count": 48,
      "outputs": [
        {
          "output_type": "execute_result",
          "data": {
            "text/plain": [
              "<KerasTensor: shape=(None, 128) dtype=float32 (created by layer 'dense_4')>"
            ]
          },
          "metadata": {},
          "execution_count": 48
        }
      ]
    },
    {
      "cell_type": "code",
      "source": [
        "dense_layer.output_shape"
      ],
      "metadata": {
        "colab": {
          "base_uri": "https://localhost:8080/"
        },
        "id": "ISJ8Zm5V2LN-",
        "outputId": "0f76f1f9-af14-413b-bc1c-24c40efbac8a"
      },
      "execution_count": 50,
      "outputs": [
        {
          "output_type": "execute_result",
          "data": {
            "text/plain": [
              "(None, 128)"
            ]
          },
          "metadata": {},
          "execution_count": 50
        }
      ]
    },
    {
      "cell_type": "code",
      "source": [
        "dense_layer.trainable"
      ],
      "metadata": {
        "colab": {
          "base_uri": "https://localhost:8080/"
        },
        "id": "rLVTnJGX1za-",
        "outputId": "2957f067-048a-4381-9254-d64fe081eaa8"
      },
      "execution_count": 49,
      "outputs": [
        {
          "output_type": "execute_result",
          "data": {
            "text/plain": [
              "True"
            ]
          },
          "metadata": {},
          "execution_count": 49
        }
      ]
    },
    {
      "cell_type": "code",
      "source": [
        ""
      ],
      "metadata": {
        "id": "1xVg-NMD126O"
      },
      "execution_count": null,
      "outputs": []
    }
  ]
}