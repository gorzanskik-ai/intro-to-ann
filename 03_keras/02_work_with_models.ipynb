{
  "nbformat": 4,
  "nbformat_minor": 0,
  "metadata": {
    "colab": {
      "name": "02_work_with_models.ipynb",
      "provenance": [],
      "collapsed_sections": [],
      "authorship_tag": "ABX9TyMQlbNLw7CRo5c9WW/DXN8R",
      "include_colab_link": true
    },
    "kernelspec": {
      "name": "python3",
      "display_name": "Python 3"
    },
    "language_info": {
      "name": "python"
    }
  },
  "cells": [
    {
      "cell_type": "markdown",
      "metadata": {
        "id": "view-in-github",
        "colab_type": "text"
      },
      "source": [
        "<a href=\"https://colab.research.google.com/github/gorzanskik-ai/intro-to-ann/blob/main/03_keras/02_work_with_models.ipynb\" target=\"_parent\"><img src=\"https://colab.research.google.com/assets/colab-badge.svg\" alt=\"Open In Colab\"/></a>"
      ]
    },
    {
      "cell_type": "code",
      "execution_count": null,
      "metadata": {
        "id": "OsvPfDA36yei"
      },
      "outputs": [],
      "source": [
        "import numpy as np\n",
        "import plotly.express as px"
      ]
    },
    {
      "cell_type": "code",
      "source": [
        "data = np.random.randn(1000, 150)\n",
        "labels = np.random.randint(2, size=(1000, 1))"
      ],
      "metadata": {
        "id": "Q8675ddZ7ITG"
      },
      "execution_count": null,
      "outputs": []
    },
    {
      "cell_type": "code",
      "source": [
        "from tensorflow.keras.models import Sequential\n",
        "from tensorflow.keras.layers import Dense\n",
        "\n",
        "model = Sequential()\n",
        "model.add(Dense(32, activation='relu', input_shape=(150, )))\n",
        "model.add(Dense(1, activation='sigmoid'))\n",
        "model.summary()"
      ],
      "metadata": {
        "colab": {
          "base_uri": "https://localhost:8080/"
        },
        "id": "QU-4O3i57U95",
        "outputId": "52e07195-14dd-48a2-f0ef-3f9f68a5a5af"
      },
      "execution_count": null,
      "outputs": [
        {
          "output_type": "stream",
          "name": "stdout",
          "text": [
            "Model: \"sequential_6\"\n",
            "_________________________________________________________________\n",
            " Layer (type)                Output Shape              Param #   \n",
            "=================================================================\n",
            " dense_12 (Dense)            (None, 32)                4832      \n",
            "                                                                 \n",
            " dense_13 (Dense)            (None, 1)                 33        \n",
            "                                                                 \n",
            "=================================================================\n",
            "Total params: 4,865\n",
            "Trainable params: 4,865\n",
            "Non-trainable params: 0\n",
            "_________________________________________________________________\n"
          ]
        }
      ]
    },
    {
      "cell_type": "code",
      "source": [
        "model.compile(optimizer='adam',\n",
        "              loss='binary_crossentropy',\n",
        "              metrics=['accuracy'])\n",
        "model.fit(data, labels, epochs=20, batch_size=30)"
      ],
      "metadata": {
        "colab": {
          "base_uri": "https://localhost:8080/"
        },
        "id": "jZcUBOXj73Uk",
        "outputId": "dfcdf1bc-15a9-4b92-e948-039f29c610ef"
      },
      "execution_count": null,
      "outputs": [
        {
          "output_type": "stream",
          "name": "stdout",
          "text": [
            "Epoch 1/20\n",
            "34/34 [==============================] - 1s 3ms/step - loss: 0.9829 - accuracy: 0.4980\n",
            "Epoch 2/20\n",
            "34/34 [==============================] - 0s 3ms/step - loss: 0.7739 - accuracy: 0.5440\n",
            "Epoch 3/20\n",
            "34/34 [==============================] - 0s 4ms/step - loss: 0.6782 - accuracy: 0.5960\n",
            "Epoch 4/20\n",
            "34/34 [==============================] - 0s 4ms/step - loss: 0.6263 - accuracy: 0.6510\n",
            "Epoch 5/20\n",
            "34/34 [==============================] - 0s 2ms/step - loss: 0.5918 - accuracy: 0.6850\n",
            "Epoch 6/20\n",
            "34/34 [==============================] - 0s 2ms/step - loss: 0.5597 - accuracy: 0.7240\n",
            "Epoch 7/20\n",
            "34/34 [==============================] - 0s 2ms/step - loss: 0.5346 - accuracy: 0.7550\n",
            "Epoch 8/20\n",
            "34/34 [==============================] - 0s 2ms/step - loss: 0.5107 - accuracy: 0.7760\n",
            "Epoch 9/20\n",
            "34/34 [==============================] - 0s 2ms/step - loss: 0.4878 - accuracy: 0.8000\n",
            "Epoch 10/20\n",
            "34/34 [==============================] - 0s 2ms/step - loss: 0.4653 - accuracy: 0.8180\n",
            "Epoch 11/20\n",
            "34/34 [==============================] - 0s 2ms/step - loss: 0.4448 - accuracy: 0.8320\n",
            "Epoch 12/20\n",
            "34/34 [==============================] - 0s 2ms/step - loss: 0.4247 - accuracy: 0.8600\n",
            "Epoch 13/20\n",
            "34/34 [==============================] - 0s 2ms/step - loss: 0.4034 - accuracy: 0.8780\n",
            "Epoch 14/20\n",
            "34/34 [==============================] - 0s 4ms/step - loss: 0.3837 - accuracy: 0.8910\n",
            "Epoch 15/20\n",
            "34/34 [==============================] - 0s 3ms/step - loss: 0.3638 - accuracy: 0.9080\n",
            "Epoch 16/20\n",
            "34/34 [==============================] - 0s 3ms/step - loss: 0.3421 - accuracy: 0.9220\n",
            "Epoch 17/20\n",
            "34/34 [==============================] - 0s 3ms/step - loss: 0.3230 - accuracy: 0.9320\n",
            "Epoch 18/20\n",
            "34/34 [==============================] - 0s 2ms/step - loss: 0.3033 - accuracy: 0.9480\n",
            "Epoch 19/20\n",
            "34/34 [==============================] - 0s 2ms/step - loss: 0.2843 - accuracy: 0.9580\n",
            "Epoch 20/20\n",
            "34/34 [==============================] - 0s 2ms/step - loss: 0.2669 - accuracy: 0.9700\n"
          ]
        },
        {
          "output_type": "execute_result",
          "data": {
            "text/plain": [
              "<keras.callbacks.History at 0x7fb5f2b3b190>"
            ]
          },
          "metadata": {},
          "execution_count": 26
        }
      ]
    },
    {
      "cell_type": "code",
      "source": [
        "model = Sequential()\n",
        "model.add(Dense(32, activation='relu', input_shape=(150, )))\n",
        "model.add(Dense(1, activation='sigmoid'))\n",
        "\n",
        "model.compile(optimizer='adam',\n",
        "              loss='binary_crossentropy',\n",
        "              metrics=['accuracy'])\n",
        "history = model.fit(data, labels, epochs=40, batch_size=32, validation_split=0.2, verbose=0)"
      ],
      "metadata": {
        "id": "wq5M3mU68gZf"
      },
      "execution_count": null,
      "outputs": []
    },
    {
      "cell_type": "code",
      "source": [
        "metrics = history.history\n",
        "metrics.keys()"
      ],
      "metadata": {
        "colab": {
          "base_uri": "https://localhost:8080/"
        },
        "id": "Lw4Lc8FN88OP",
        "outputId": "ef288694-0db2-488c-9c77-fc23571af8a8"
      },
      "execution_count": null,
      "outputs": [
        {
          "output_type": "execute_result",
          "data": {
            "text/plain": [
              "dict_keys(['loss', 'accuracy', 'val_loss', 'val_accuracy'])"
            ]
          },
          "metadata": {},
          "execution_count": 28
        }
      ]
    },
    {
      "cell_type": "code",
      "source": [
        "model = Sequential()\n",
        "model.add(Dense(32, activation='relu', input_shape=(150, )))\n",
        "model.add(Dense(1, activation='sigmoid'))\n",
        "\n",
        "model.compile(optimizer='adam',\n",
        "              loss='binary_crossentropy',\n",
        "              metrics=['accuracy'])\n",
        "history = model.fit(data, labels, epochs=40, batch_size=32, validation_split=0.2, verbose=0)"
      ],
      "metadata": {
        "id": "rYSAvcba9t4z"
      },
      "execution_count": null,
      "outputs": []
    },
    {
      "cell_type": "code",
      "source": [
        "test_data = np.random.randn(5, 150)\n",
        "test_labels = np.random.randint(2, size=(5, 1))"
      ],
      "metadata": {
        "id": "mt51zMzL-CGk"
      },
      "execution_count": null,
      "outputs": []
    },
    {
      "cell_type": "code",
      "source": [
        "model.predict(test_data)    #prawdopodobieństwo przynależnośći do danej klasy"
      ],
      "metadata": {
        "colab": {
          "base_uri": "https://localhost:8080/"
        },
        "id": "dUSYuWik-Li6",
        "outputId": "a0dbb160-beee-4d90-8085-d2d6825a9d7d"
      },
      "execution_count": null,
      "outputs": [
        {
          "output_type": "execute_result",
          "data": {
            "text/plain": [
              "array([[0.81757414],\n",
              "       [0.72545135],\n",
              "       [0.26216453],\n",
              "       [0.8335993 ],\n",
              "       [0.98747885]], dtype=float32)"
            ]
          },
          "metadata": {},
          "execution_count": 43
        }
      ]
    },
    {
      "cell_type": "code",
      "source": [
        "test_labels"
      ],
      "metadata": {
        "colab": {
          "base_uri": "https://localhost:8080/"
        },
        "id": "4usrVCN4-rEr",
        "outputId": "9f5a0780-f55e-442b-a298-7586c0dfc6dd"
      },
      "execution_count": null,
      "outputs": [
        {
          "output_type": "execute_result",
          "data": {
            "text/plain": [
              "array([[1],\n",
              "       [1],\n",
              "       [0],\n",
              "       [0],\n",
              "       [1]])"
            ]
          },
          "metadata": {},
          "execution_count": 44
        }
      ]
    },
    {
      "cell_type": "code",
      "source": [
        "#Klasyfikacja wieloklasowa"
      ],
      "metadata": {
        "id": "FJqFcV3v-xz-"
      },
      "execution_count": null,
      "outputs": []
    },
    {
      "cell_type": "code",
      "source": [
        "data = np.random.randn(1000, 150)\n",
        "labels = np.random.randint(10, size=(1000, 1))\n",
        "labels[:5]"
      ],
      "metadata": {
        "colab": {
          "base_uri": "https://localhost:8080/"
        },
        "id": "4B5DvwPoAEuy",
        "outputId": "016c7d70-b1ae-4643-94d2-0320b3506e09"
      },
      "execution_count": null,
      "outputs": [
        {
          "output_type": "execute_result",
          "data": {
            "text/plain": [
              "array([[5],\n",
              "       [8],\n",
              "       [4],\n",
              "       [8],\n",
              "       [1]])"
            ]
          },
          "metadata": {},
          "execution_count": 51
        }
      ]
    },
    {
      "cell_type": "code",
      "source": [
        "from tensorflow.keras.utils import to_categorical\n",
        "\n",
        "labels = to_categorical(labels)\n",
        "labels[:5]"
      ],
      "metadata": {
        "colab": {
          "base_uri": "https://localhost:8080/"
        },
        "id": "e-gxRFB1A0V7",
        "outputId": "fecba9dc-0a28-44a5-f3bb-43e975719704"
      },
      "execution_count": null,
      "outputs": [
        {
          "output_type": "execute_result",
          "data": {
            "text/plain": [
              "array([[0., 0., 0., 0., 0., 1., 0., 0., 0., 0.],\n",
              "       [0., 0., 0., 0., 0., 0., 0., 0., 1., 0.],\n",
              "       [0., 0., 0., 0., 1., 0., 0., 0., 0., 0.],\n",
              "       [0., 0., 0., 0., 0., 0., 0., 0., 1., 0.],\n",
              "       [0., 1., 0., 0., 0., 0., 0., 0., 0., 0.]], dtype=float32)"
            ]
          },
          "metadata": {},
          "execution_count": 52
        }
      ]
    },
    {
      "cell_type": "code",
      "source": [
        "model = Sequential()\n",
        "model.add(Dense(32, activation='relu', input_shape=(150, )))\n",
        "model.add(Dense(10, activation='softmax'))\n",
        "\n",
        "model.compile(optimizer='adam',\n",
        "              loss='categorical_crossentropy',\n",
        "              metrics=['accuracy'])\n",
        "model.fit(data, labels, epochs=30, batch_size=32, validation_split=0.2, verbose=0)"
      ],
      "metadata": {
        "colab": {
          "base_uri": "https://localhost:8080/"
        },
        "id": "2NF-b_JyBcQ8",
        "outputId": "997e0c36-b7d5-4d89-afd6-fc2bf3383ae1"
      },
      "execution_count": null,
      "outputs": [
        {
          "output_type": "execute_result",
          "data": {
            "text/plain": [
              "<keras.callbacks.History at 0x7fb5f2c47450>"
            ]
          },
          "metadata": {},
          "execution_count": 53
        }
      ]
    },
    {
      "cell_type": "code",
      "source": [
        "test_data = np.random.randn(10, 150)\n",
        "model.predict(test_data)"
      ],
      "metadata": {
        "colab": {
          "base_uri": "https://localhost:8080/"
        },
        "id": "_F3mVXw8CVuc",
        "outputId": "829f988c-19db-41f1-c869-d0f3d125093e"
      },
      "execution_count": null,
      "outputs": [
        {
          "output_type": "execute_result",
          "data": {
            "text/plain": [
              "array([[7.2869222e-04, 3.4696445e-02, 8.8266162e-03, 7.0654072e-02,\n",
              "        3.0434373e-01, 1.0402274e-02, 1.2855259e-01, 2.6073024e-02,\n",
              "        4.0285486e-01, 1.2867667e-02],\n",
              "       [8.3187940e-03, 1.2062929e-02, 2.4724256e-02, 2.8957089e-03,\n",
              "        1.4663784e-02, 5.9683118e-03, 4.6395808e-03, 1.2868614e-03,\n",
              "        9.2205620e-01, 3.3835934e-03],\n",
              "       [3.2957560e-01, 4.0808570e-02, 5.2497853e-02, 2.3985286e-01,\n",
              "        1.0412172e-01, 3.8579561e-02, 3.3271846e-03, 5.3481092e-03,\n",
              "        1.6534008e-01, 2.0548433e-02],\n",
              "       [1.5890142e-02, 3.3036206e-02, 3.0928625e-02, 9.9977747e-02,\n",
              "        2.0225969e-01, 6.9787592e-02, 1.9652501e-01, 2.8477830e-01,\n",
              "        3.7529338e-02, 2.9287402e-02],\n",
              "       [2.6252127e-01, 3.6812970e-01, 3.9829141e-03, 9.1634262e-03,\n",
              "        2.7099092e-02, 1.1600738e-01, 9.4592340e-02, 7.2461145e-04,\n",
              "        5.7763308e-02, 6.0015928e-02],\n",
              "       [3.4700918e-01, 5.3984364e-03, 1.3872670e-01, 8.0941074e-02,\n",
              "        2.0139091e-01, 3.5713159e-02, 1.1299492e-02, 2.3149978e-02,\n",
              "        1.0972802e-01, 4.6643157e-02],\n",
              "       [5.4568496e-02, 1.2416442e-02, 2.1930708e-02, 2.7882674e-01,\n",
              "        4.8943290e-01, 1.1652638e-02, 6.2633427e-03, 2.3016710e-02,\n",
              "        2.4927653e-02, 7.6964296e-02],\n",
              "       [1.0767700e-01, 5.8321889e-02, 9.9649891e-02, 3.1188780e-01,\n",
              "        3.6253929e-01, 1.2086158e-02, 1.1491549e-03, 6.1376202e-03,\n",
              "        3.5195537e-02, 5.3555747e-03],\n",
              "       [1.8353270e-02, 7.4207732e-03, 6.0299598e-03, 8.5777298e-02,\n",
              "        2.8771644e-02, 1.4497359e-02, 6.1482540e-03, 7.1035492e-01,\n",
              "        1.9216942e-02, 1.0342961e-01],\n",
              "       [2.8938372e-02, 1.5853336e-01, 4.0223215e-02, 2.0128000e-01,\n",
              "        1.5769972e-01, 7.4708574e-02, 4.2227540e-02, 1.2315421e-02,\n",
              "        2.5124034e-01, 3.2833442e-02]], dtype=float32)"
            ]
          },
          "metadata": {},
          "execution_count": 55
        }
      ]
    },
    {
      "cell_type": "code",
      "source": [
        "#Regresja"
      ],
      "metadata": {
        "id": "r5TJa2-vC2lt"
      },
      "execution_count": null,
      "outputs": []
    },
    {
      "cell_type": "code",
      "source": [
        "data = np.random.random((1000, 20))\n",
        "labels = 10 * np.random.random(1000)"
      ],
      "metadata": {
        "id": "K4pvWMlIC8dD"
      },
      "execution_count": null,
      "outputs": []
    },
    {
      "cell_type": "code",
      "source": [
        "train_X = data[800:]\n",
        "train_Y = labels[800:]\n",
        "test_X = data[:200]\n",
        "test_Y = labels[:200]"
      ],
      "metadata": {
        "id": "-PH0dcFuDMvL"
      },
      "execution_count": null,
      "outputs": []
    },
    {
      "cell_type": "code",
      "source": [
        "model = Sequential()\n",
        "model.add(Dense(36, activation='relu', input_shape=(20, )))\n",
        "model.add(Dense(1))\n",
        "\n",
        "model.compile(optimizer='adam',\n",
        "              loss='mae',\n",
        "              metrics=['mae', 'mse'])\n",
        "history = model.fit(train_X, train_Y, batch_size=32, epochs=27, validation_split=0.2)"
      ],
      "metadata": {
        "colab": {
          "base_uri": "https://localhost:8080/"
        },
        "id": "391HdY0vDeDS",
        "outputId": "8e7bf05b-9145-4f1f-9d0f-472990107501"
      },
      "execution_count": null,
      "outputs": [
        {
          "output_type": "stream",
          "name": "stdout",
          "text": [
            "Epoch 1/27\n",
            "5/5 [==============================] - 1s 40ms/step - loss: 5.0996 - mae: 5.0996 - mse: 33.8822 - val_loss: 5.0949 - val_mae: 5.0949 - val_mse: 33.2777\n",
            "Epoch 2/27\n",
            "5/5 [==============================] - 0s 9ms/step - loss: 4.9367 - mae: 4.9367 - mse: 32.2752 - val_loss: 4.9230 - val_mae: 4.9230 - val_mse: 31.5591\n",
            "Epoch 3/27\n",
            "5/5 [==============================] - 0s 8ms/step - loss: 4.7765 - mae: 4.7765 - mse: 30.7072 - val_loss: 4.7591 - val_mae: 4.7591 - val_mse: 29.8788\n",
            "Epoch 4/27\n",
            "5/5 [==============================] - 0s 9ms/step - loss: 4.6156 - mae: 4.6156 - mse: 29.2028 - val_loss: 4.5911 - val_mae: 4.5911 - val_mse: 28.2141\n",
            "Epoch 5/27\n",
            "5/5 [==============================] - 0s 8ms/step - loss: 4.4529 - mae: 4.4529 - mse: 27.6207 - val_loss: 4.4127 - val_mae: 4.4127 - val_mse: 26.5021\n",
            "Epoch 6/27\n",
            "5/5 [==============================] - 0s 8ms/step - loss: 4.3008 - mae: 4.3008 - mse: 26.1019 - val_loss: 4.2297 - val_mae: 4.2297 - val_mse: 24.7452\n",
            "Epoch 7/27\n",
            "5/5 [==============================] - 0s 9ms/step - loss: 4.1396 - mae: 4.1396 - mse: 24.5262 - val_loss: 4.0408 - val_mae: 4.0408 - val_mse: 22.9197\n",
            "Epoch 8/27\n",
            "5/5 [==============================] - 0s 9ms/step - loss: 3.9708 - mae: 3.9708 - mse: 22.7604 - val_loss: 3.8511 - val_mae: 3.8511 - val_mse: 21.0630\n",
            "Epoch 9/27\n",
            "5/5 [==============================] - 0s 9ms/step - loss: 3.8122 - mae: 3.8122 - mse: 21.0567 - val_loss: 3.6525 - val_mae: 3.6525 - val_mse: 19.1493\n",
            "Epoch 10/27\n",
            "5/5 [==============================] - 0s 8ms/step - loss: 3.6338 - mae: 3.6338 - mse: 19.2185 - val_loss: 3.4434 - val_mae: 3.4434 - val_mse: 17.2926\n",
            "Epoch 11/27\n",
            "5/5 [==============================] - 0s 8ms/step - loss: 3.4501 - mae: 3.4501 - mse: 17.4697 - val_loss: 3.2185 - val_mae: 3.2185 - val_mse: 15.4783\n",
            "Epoch 12/27\n",
            "5/5 [==============================] - 0s 10ms/step - loss: 3.2700 - mae: 3.2700 - mse: 15.7443 - val_loss: 3.0218 - val_mae: 3.0218 - val_mse: 13.7352\n",
            "Epoch 13/27\n",
            "5/5 [==============================] - 0s 8ms/step - loss: 3.0815 - mae: 3.0815 - mse: 14.1122 - val_loss: 2.8685 - val_mae: 2.8685 - val_mse: 12.1860\n",
            "Epoch 14/27\n",
            "5/5 [==============================] - 0s 8ms/step - loss: 2.9109 - mae: 2.9109 - mse: 12.7019 - val_loss: 2.7214 - val_mae: 2.7214 - val_mse: 10.8437\n",
            "Epoch 15/27\n",
            "5/5 [==============================] - 0s 8ms/step - loss: 2.7659 - mae: 2.7659 - mse: 11.4813 - val_loss: 2.5956 - val_mae: 2.5956 - val_mse: 9.7543\n",
            "Epoch 16/27\n",
            "5/5 [==============================] - 0s 8ms/step - loss: 2.6454 - mae: 2.6454 - mse: 10.4793 - val_loss: 2.4975 - val_mae: 2.4975 - val_mse: 8.9108\n",
            "Epoch 17/27\n",
            "5/5 [==============================] - 0s 7ms/step - loss: 2.5586 - mae: 2.5586 - mse: 9.6345 - val_loss: 2.4288 - val_mae: 2.4288 - val_mse: 8.3134\n",
            "Epoch 18/27\n",
            "5/5 [==============================] - 0s 9ms/step - loss: 2.5125 - mae: 2.5125 - mse: 9.1897 - val_loss: 2.3651 - val_mae: 2.3651 - val_mse: 7.8812\n",
            "Epoch 19/27\n",
            "5/5 [==============================] - 0s 9ms/step - loss: 2.4658 - mae: 2.4658 - mse: 8.7830 - val_loss: 2.3150 - val_mae: 2.3150 - val_mse: 7.6367\n",
            "Epoch 20/27\n",
            "5/5 [==============================] - 0s 8ms/step - loss: 2.4402 - mae: 2.4402 - mse: 8.5703 - val_loss: 2.2890 - val_mae: 2.2890 - val_mse: 7.5017\n",
            "Epoch 21/27\n",
            "5/5 [==============================] - 0s 13ms/step - loss: 2.4229 - mae: 2.4229 - mse: 8.4226 - val_loss: 2.2821 - val_mae: 2.2821 - val_mse: 7.4332\n",
            "Epoch 22/27\n",
            "5/5 [==============================] - 0s 9ms/step - loss: 2.4158 - mae: 2.4158 - mse: 8.3540 - val_loss: 2.2808 - val_mae: 2.2808 - val_mse: 7.3959\n",
            "Epoch 23/27\n",
            "5/5 [==============================] - 0s 8ms/step - loss: 2.4119 - mae: 2.4119 - mse: 8.3215 - val_loss: 2.2815 - val_mae: 2.2815 - val_mse: 7.3813\n",
            "Epoch 24/27\n",
            "5/5 [==============================] - 0s 8ms/step - loss: 2.4071 - mae: 2.4071 - mse: 8.2995 - val_loss: 2.2839 - val_mae: 2.2839 - val_mse: 7.3779\n",
            "Epoch 25/27\n",
            "5/5 [==============================] - 0s 8ms/step - loss: 2.4076 - mae: 2.4076 - mse: 8.2869 - val_loss: 2.2865 - val_mae: 2.2865 - val_mse: 7.3791\n",
            "Epoch 26/27\n",
            "5/5 [==============================] - 0s 8ms/step - loss: 2.4057 - mae: 2.4057 - mse: 8.2840 - val_loss: 2.2882 - val_mae: 2.2882 - val_mse: 7.3819\n",
            "Epoch 27/27\n",
            "5/5 [==============================] - 0s 8ms/step - loss: 2.4056 - mae: 2.4056 - mse: 8.2816 - val_loss: 2.2891 - val_mae: 2.2891 - val_mse: 7.3826\n"
          ]
        }
      ]
    },
    {
      "cell_type": "code",
      "source": [
        "predictions = model.predict(test_X)"
      ],
      "metadata": {
        "id": "5Iq90_G7ES-n"
      },
      "execution_count": null,
      "outputs": []
    },
    {
      "cell_type": "code",
      "source": [
        "predictions[:5]"
      ],
      "metadata": {
        "colab": {
          "base_uri": "https://localhost:8080/"
        },
        "id": "PrpFbwJEEoZ9",
        "outputId": "536e6db6-04b2-40eb-b920-f208592c3e8d"
      },
      "execution_count": null,
      "outputs": [
        {
          "output_type": "execute_result",
          "data": {
            "text/plain": [
              "array([[4.1222324],\n",
              "       [4.469258 ],\n",
              "       [4.7509894],\n",
              "       [5.3866634],\n",
              "       [4.867769 ]], dtype=float32)"
            ]
          },
          "metadata": {},
          "execution_count": 70
        }
      ]
    },
    {
      "cell_type": "code",
      "source": [
        "test_Y[:5]"
      ],
      "metadata": {
        "colab": {
          "base_uri": "https://localhost:8080/"
        },
        "id": "sSy-p30KEtTh",
        "outputId": "a13b2282-91a7-4f75-d722-b68070ab72b7"
      },
      "execution_count": null,
      "outputs": [
        {
          "output_type": "execute_result",
          "data": {
            "text/plain": [
              "array([9.41530516, 8.7291028 , 2.14085032, 4.6650093 , 4.6354645 ])"
            ]
          },
          "metadata": {},
          "execution_count": 71
        }
      ]
    },
    {
      "cell_type": "code",
      "source": [
        ""
      ],
      "metadata": {
        "id": "y-bMzJU9FB_d"
      },
      "execution_count": null,
      "outputs": []
    }
  ]
}